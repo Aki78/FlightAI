{
 "cells": [
  {
   "cell_type": "markdown",
   "metadata": {},
   "source": [
    "# Modular Idustrial Space Outpost\n",
    "\n",
    "### Abstract\n",
    "\n",
    "We presnet analysis of main objectives and technical challanges which industrial space facilities will have to solve in order to faccilite perspective industrial processes. We suggest possible solutions which seems to be most feasible and efficient from point of view of contemporery technolgy and ecconomy. To do so we design system of modules from which industrial space outpost can be assebmled. The main motivation is to maximaly utilize and promote favourable features of space invironment for industrial processes which are particualarily advantagenous and therefore profitable to conduct in space environemnt. We try to relate our concept of industrial hub to much more common studies of habitats for people living in space. While industial and humane space architecture shares may common aspects such as atempt to provide enclose protected evironment, we think that industrial motivations are much more relevant for space develoment, as it is currently uncertain wheather human presence in space will be required and economically justified."
   ]
  },
  {
   "cell_type": "markdown",
   "metadata": {},
   "source": [
    "\n",
    "# Introduction\n",
    "\n",
    "Collonization of space is often considered as great technical and economic challenge with rather ideological justification (i.e. expansion of humanity to space). For hunderts of years the topic provides ground for adventurous sci-fy storries, social utopias as well as architectectural and other artistic visions of building modern version of  Atlantis or Elysium. The basic plot of these visions is to achieve magnificient and noble goals at the cost of huge effort and capital investemnt.\n",
    "\n",
    "However for self-sustained space colonization driven predominantly by privite sector the reasoning must be reversed. We have to consider only such bussineses which are profitable on purely economical basis with return on investment in reasonable time period. In other words we search for such procesess or egineering projects which are actually in a sense *easier* to conduct in space than on the Earth. Commonly asteroid mining is reffered as such industry, due to abundant presence of e.g. platinum group metals (PGMs) and certain precious semiconductor elements in relatively high concetration. However, due to large development and capital cost as well as considerable risk involved economic feasibility of space economy driven prurely by mining or rare resources sold on Earth is dubious. Asteroid mining can be perhaps economically justified only when majority of the mined resources is consumed directly in space, where cost o raw material is considerably higer due to high transport cost of the material from Earth. Some of the in-space demand on raw materials can be justified by service of current facilities on Eath orbit such as comunication and sciencetific satailites and ISS, or perhaps of future sciencetific or recreational facilities and sciencetific missions. Nevertheless, such demant is relatively limited and from large part dirctly or indirectly dependent on govermental support. Really self-sufficient, exponetitally growing space ecconomy must be therefore based on industrial processes conducted in space. \n",
    "\n",
    "##  space economy drivers\n",
    "\n",
    "While PGMs and other minaral resources alone probably cannot motivate rage scale industrialization of space, there is huge demand some features of space environment which are scarce on Earth. This involve either physical aspect such as vacuum, cryogentic temperatures, microgravity, un-occluded solar light, large un-interupted building space as well as socio-political aspect such as lack of enviromental protection and govermental control. All these features of Earth environmnet consideraly interfere and complicate many hi-tech industrial processes. Perhaps better to say, most favourable features of space environment are due what it lack rather than what it provides. Lets us now discuss these features of space environemnt in detail together with particular industrial processes which can make advatages of it. \n",
    "\n",
    "### Physical aspects\n",
    "\n",
    " - **zero gravity**\n",
    "   - [Some technologies](https://en.wikipedia.org/wiki/Space_manufacturing) such as crystal groth of [proteins](http://www.nature.com/articles/npjmgrav201510) and anorganic crystals, are hapered by gravity as perturbing force. \n",
    "   - Building of large fragile structures - such as space-crafts, space-telescopes, particle acclerator and other large-scale physical experiments may be much easier in micro-gravity environment.\n",
    " - **vacuum** - many physical technologies and experiments require vacuum environment, and building vacuum vessels on earch considerably increase cost of such projects.   \n",
    "   - Electron beam and ion beam technologies - large scale machining using electron beams is older than laser machining, and it is also enegetically more efficient (due to higher efficiency of electron acclerator in comprision to laser sources) and easily controlable (magnetic deflection f beam). \n",
    "   - Molecular beam epitaxy\n",
    " - **low temeprature** - since temperature of outer space is 2.73K, almost anywhere in solar system can be achived criogenic temperatures if sun radiation is shielded. The shilding may be problematic since both atificial and natural shields (e.g. planets) radiates it own termal radiation. Nevertheless using several laryes of artificial shields teperetures around 5-10K can be regularily achieved using only passive cooling. This is considerable advantage also for very-low temperature tech (e.g. milikelvin) since active cooling and isolation is also much easier in this environment (vacuum). Technologies utilizing low temperatures include:\n",
    "   - Super-conductive technologies (magnets, generators)\n",
    "   - Quantum computing and explotation of other quantum phenomenas\n",
    "   - Low temperatures pshysical experiments\n",
    " - **abundance of some elements** which are depleted in planetary crust - Including platinum group metals, rare semiconductors (Germanium, Galium, Gadolinium, Indium, Telur ... ) and rare earth metals and Helimum-3\n",
    "\n",
    "### Socio-political aspects\n",
    "\n",
    "- **Polution tolerance** - For numerous indrustrial processes on earth the cost connected to safety and environemntally friendly liqudation of waste is considerable. For some processes these aspect are the main barries for large scale adoption. From current perspective space environment is enough large, and life-unfriendly to facilitate virtually any ammout of waste and polution we can imagine to produce, without any evironemnt deteoriation. While it may seem irresponsible in current political context, where environmental protection and sustanable developemnt are proclaimed to be in centre of moral values, it is actually very reasonable also from that context. Part of most problematic industrial processes from earth can be outsourced to space where tehy are much less problematic. If can eventually modify the approach later, when scale of space economy achive relevant (i.e. astronomic) proportions in which space polution may start to present a problem. There is no reason to arbitrarily hamper space development by pre-mature enviromental concerns. \n",
    "- **Lack of Law and its enforcement** - For long time space-economy will be still dependent on earth-bound customers, and earth-bound investors and therefore indirectly also subbject to regulation of earth bound goverment and law. Nevertheless, from historical perspective as well as from practical considerations it is quite probable that degree of control will be much more limited than in already established socio-political enviroment of developed states on earth. The historical experience of naval exploration and subsequent colonialism shows control of central goverment over colonists (e.g. in North America) and companies (e.g. East india company) was limited. Whether this lax application of govermental control was deliberate in order to promote efficenecy of private edeavours and limit govermental responsibility (as in case of oriental trade companies) or if it was due to practical imposibility to gain complete control over the vast area (e.g. piracy) it is reasonable to expect that the same factor limit govermental control in space. Even from more recent history of globalization we se precedences where international companies outsource various economic activies which would be problatic or illegal in developed countries into developing states with much more relaxed law and law enforcement. This same situation may very well appear in space economy, only now these practices will not affect local population or nature. It is tipical that law and even more culture and morality lag behind technological development. This on one hand support the assumption that application will be limited by the mare lack of reasonable law to apply. On the other hand this hapers technological development in developed nations by posing irrational barriers. For example bio-egineering especially in humane context is considerably limited by ethical concerns and cultural traditions and religious prejudices. In space such limiting norms can be hardly enforced.\n",
    "\n"
   ]
  },
  {
   "cell_type": "markdown",
   "metadata": {
    "collapsed": true
   },
   "source": [
    "### industrail processes profiting from space environemnt\n",
    "\n",
    "We briefly discuss several particular technological processes in order to identify demands imposed of space architecture which should facilitate them, and to support assumption what it is ecconomically advantagenous to conduct these processes in space. Technological details of those processes as well perticular realization of correspoding technolgical production facility in space is beyond the scope of this paper. We rather assume that industrail architecture (MISO) discussed in this paper will provide protected and controled space for 3rd party companies, and that choice and realiation of paticular facility or technology is on them. This allows us to discuss more general features of industrial space architecture which are incommon fto broader variety of technologies.\n",
    "\n",
    "- Molecular beam epitaxy\n",
    "- Crystal-groth\n",
    "- Quantum computing\n",
    "- Plasma physics\n",
    "- Ion beam technology\n",
    "\n",
    "##  Objectives of space idustrial engineering\n",
    "\n",
    "#### Paticle radiation shields \n",
    " \n",
    " Radiation mostly in form of protons and light atom nuclei is harmful not only to life, but also to electronics and other devices. The damage mechanism s (i) itroducing defect into material and (ii) launching electric avalanches discharges. Deffects are especially problatic for technologies and materials which realy on ideal crystaline structure. The discharges endanger any devices with high gradients of electric field, which include both microscopic low-voltage devices such as computer chips as well as macroscopic high-voltages devices such as capacitors, marx generators and radiofrequency cavities of accelerator, electron microscopes and other electron and ion beam optics. \n",
    " \n",
    "There are two basic approaches to radiation shielding: (i) using thick layers of raw material such as water or regolith (ii) using magnetic fields. The obvious disadvantage of using thick shield is enormous weight of such shield. This concern is very serious in case of manuevering space craft, but in case of static facility it is much less of a problem. Still the ammount of material required to build large enclosed room protected by thick shield may be limiting factor. For a spherical room of radius 100-1000m covered by 1m of regolith thi accounts for 0.7-75 milion tons which is comparable to total mass of smaller asteorides.   \n",
    "\n",
    "While the raw material is abundant and cheap, the mining, processing and anchoring in huge quntities is challanging. Let us disscuss technologies with lowest per-mass cost.\n",
    "\n",
    " - **choise of material and mining** - Most perspective materials for the shields are either (i) **silicate regoliths**, since they are cheap balast usuitable for other industrial processes and (ii) **hydrogen rich materials** such as water, hydrated salts and hydrocarbons due to high stopping power of hydrogen in collisions with protons. This means that silicate shields sould be several times thicker than hydrogen rich shields. The choice is than tradeoff between cost of building operations required for more massive shild vs. value of hyrogen rich material for other purposes. \n",
    "   - It is reasonable to assume that for colony bound to large enough asteroide (>1000m) the limiting factor is not access to raw materials but capacity to process it. In that case shield will be constructed from material which is easy to mine without additional processing. Very suitable seems to be dune-like **deposits of fine-grined soil** (dust, sand) often seen in between larger rocky boulders in ruble-pile asteroides. These can be easily grabed with simple and lightweight excavator where amount of material gathered per operation should out-weight the mass of the equipment. The limiting factor here could be abbeassion of the excavator showel, which limits the ammout of material mined before replacement.  The ratio beween mined material and replaced metalic equipment should be very high (perhaps >1:$10^6$).\n",
    "   - Considering abundance of material the main contribution to cost of water and other hydrogen rich volatiles will be probably the extraction form the soil. In that case **alumino-silicates with high content of bounded water** (such as clays and bentonites) will present efficient and afordable shielding material. It is also more practical to use water bouned in minerals rather than pure liquid water or ice due higher structural strenght and lower vapor presure. While liquid water may require rather sofisticated presurized tanks, and ice protection form heatig by sun, clays and concre-like silicates can be used directly in form of raw boulders or filled in in-sophisitcated bags.    \n",
    " - **Transport** - The industrial facility would be probably constructed at distance of 1-100km from asteroide body. This is of several reasons such as (i) to provide room for large area facilities auch as solar arrays and radiators (ii) to prevent polution of industrial colony by dust released by mining and other possible interferences with industrial activity and safety ( during mining are used explosives and large pieces of asterodide body can be released into space ). For this puprpose the colony will be connected to asterodie perhabs by magnetic rail or by simple cable-railway. Alternatively chunks of cargo can be send through space between two mass drivers (or other accelerators) at asteroide and the colony. Transport of large quantites of material necessarily intorduces mechanical stress connected to accleration and deacceleration which structural support of rail or mass driver must bare. There is actually not much difference beteen through space transport and solid rail. The rail would be probably sright purely tensional cable suspended beteen the two ends. Most of the journey on the rail the caro-cars will cost without accelation and the only recoil will be experienced at the ends. This recoil of cargo provides repulsive forces to keep colony at proper distance from asterodide and rail in tension. The primary purpose of cable is therefore predominantly strucural stability of mine-factory complex and only secondary to guide free-flying cargo cars between two accelators. Shape and size of cargo cars is not limited by constrains typical for Earth (air drag, trees, tunnels). Large boulders or large bags of regolith (50m radius) can be easily transported at once. This could look conspicuously similar to [lysosomes carried along microtubulus in cell](http://i.imgur.com/TKtA28B.gif). The main limitation here would be the time required for acceleration and deacceleration of such mass at the ends. It may be problematic if same rail is used for transport large quantities of raw material as well as transport of building equipment etc. since there are very different demands on timescale. While it is completely reasonable to send 10000 tons of regolith once a week at speed $1m/s$, servicing robots may be required to arrive in a few minutes or hours (at speed ~100m/s).   \n",
    " - **Shield scafold** - Structural scafold bearing all mechanical stresses should be made of refined materials materials with rather high stenght-to-mass ratio. This include either metals if produced in--situe at large quentity or composites. The exact shape and dimenional stability of the shieling structure is not crucial, therefore high strenth is preferend over high stiffness, which favorizes cheaper glassfiber composites over carbon- or polymer- fieber composites and metals. Weight reduction in case of such large structure means girders with large aspect ratio (thin) with low flexular strenght and stiffness. Therefore approximate shape of the enclosed room (tipically cylinder, shere or capsula) should be kept inflated by other means than pure flexular stiffness of girders. The other means involve gas-pressure ([Tensairity](https://en.wikipedia.org/wiki/Tensairity)) tensional ropes ([Tensegrity](https://en.wikipedia.org/wiki/Tensegrity)) and centrifugal force due to slow rotation of the shield. While use of centrifugal force seems to be natural choice, it introduces certain complications into the desing. The interfacing of rotationg facilities with other strucures - e.g. transport network of pipes, power supply and magnetic rails within colony. The heat shields, radiators, soar arrays oriented with respect to sun and other bodies must be attached by sophisticated joint. The forces required to inflate the shield scaffold are considerably lower than earth rgavity (1g), and in order to minimize mass ratio beween scafold and shielding raw material eventual centrifugal force should be kept below 0.01g. This means that even in case when inside the enclosed room should be utilized centrifugal force for either industrial processes or as artificial gravity for people, the rotation of inner facility should be much faster and therefore must be decoupled from the shield.\n",
    " - **fixation of shilding material to scafold** - While it is certainly possible to scinter or melt silicate regolith using solar furnance or other means, this is perhaps not very practical due to enormous ammout of material which has to be processed. The building an material processing should as minimalistic as possible. In weith-less envirnoment without wind and earthqukes there are almost none mechanical stresses for architectural-structures to overcome. This opens oppurtinites of cheap building thechniques wich would be infeasible in Eerth environment. Thin, lightweight and inexpensibe bags made of polymer or glassfiber cloth can be filled by powdery regolith and fastened to scafold by ropes. Solid boulders of suitable size could be fastened without need of back, but it is questionable wheather iregularity of shapes and effort invested to selection of suitable boulders from ruble-pile or choping of larger boulders into proper shape will be woth it. An interesting option is to use fine ($r<$1$\\mu m$) fiebers of glass, polymer or metal to bound fine regolith dust by electrostatic and van der Waals forces. In case o water ice and more preferably hydrated salts with low melting temperature (e.g. $Na_2CO_3·10H_2O$ 34 °C, $Na_2SO_4·12H_2O$ 32.38 °C) simiar fiebers can be used to improve strengh and toughness of the material imilarily as in [pykrete](https://en.wikipedia.org/wiki/Pykrete). Both regolith-dust and hydrate salts can be considered as matrix in composite structures. In all cases it crucial to keep mass ratio between fiebers and matrix as low as possible in order to reduce cost.    \n",
    "\n",
    "In order to reduce total mass of shielding magnetic deflection of most energetic particles, which would considerably reduce thickness of the raw material layer. For example if from orginal spectrum of up to 250 MeV protons are removed or slowed all particles above 100MeV, the penetration depth is reduced from 400mm to 50mm, which means 8x lighter shield. The main problem of this approach is that perticles of high energetic cosmic radiation comes from all direction, and even those originating from sun (e.g. from sloar flares) are rather badly collimated. In case of well colimated particle beam it would be sufficient to deflect the beam by small angle, which can be done using relatively weak magnetic field positioned far in front the facility. In case of randomly distributed incident directions the facility must be immersed in the center of the field and the field must be strong enough to deflect the particles by 60-180 degrees. This means that gyro radius of the particles in the field should be smaller than the distance between onsed of field and outer boundary of the protected room. It is also required that in the area between the onset of field and shield is empty, as any solid object could scatter the particles toward the facility.  \n",
    "\n",
    "#### Micro-meteorite shield \n",
    "\n",
    "Massive radiation shilds would certainly provide good protection also against micrometeorites. The only problem remains protection of those facilities which are not covered by radation shield and minimization of ware of radiation shield. \n",
    "\n",
    "#### Heat shields and cryogenics \n",
    " \n",
    "Cryogenic technolgoies based on super-conductivity, super-fluidity, and other quantum-coherent states comprise most attractive opportunities for space ecconomy. While temperature of outer space is approximately given by temperature of background radiation (2.73K) the equlibrium temperature of natural bodies at NEA or in asteroid belt is not sufficiently low for those cryogenic applications due to sun radiation. There are nevertheless very efficient measures how to reduce equilibirum temperature of properly designed artifical bodies. \n",
    "\n",
    "A navie prospect would be to situate cryogecic industrial facility into **shadow of celestial body** (planets or asteoriedes). In that case it should be considered that even the dark side of shielding body has temperature considerably higer than background radiation. Thus the cryogenic facility must be situated in sufficient distance from the shielding body to minimize capture thermal radiation radiated from the shield. Also the facility must be kept by propper position with respect to shielding body by active manuevering, perhaps using ion thrusters. In case of planetary heat shield only lagrange point L2 is feasible position. Such constrains on position of facility with respect to masive shielding body may limit access to raw materials, which would be mined from that body or imported from other body. For example in case of asteroide it would be advantagenous to place facility as close as possible.\n",
    "\n",
    "For these reasons natural shield may be quite inpractical in comparision to **lightweight artificial heat shield** made of thin metalic foil. Artificial shiled can be designed to optimally fullfil all industrial requirements of minal weight, and temperature as well as optimal placement with respect to raw resources and orbital trade-rotes. The heat shiled tipically comprise of tilted planes (sails) separated by larger distace which fill as solid angle in direction from sun (i.e. the sail closest to sun is largest). The side directed toward the sun is always highly reflective to minimized ammount of captured radiation. The equlibrium temperature of the sail is further reduced by tilt under sharp angle which increase ratio between are from which heat is radiated to outer space and the crossectional area for sun irradiation. Larger spacing between the sails ensure that only small percentage of heat radiated from sail closer to sun is captured by the sail behind. Major optimization criterial for the heat shield are reduction of weight for given temeprature gradient. Theoretically the most efficient way is to prolong spacing between sails, since the weight of structural scafold on which sails are fixed is very small since the scaffold does not have to bear almost any force. Due to limits of building technology and impracticality of manipulation of fragile long girders the total lengrh of shield should be perhaps limited to max. several kilometers. \n",
    "\n",
    "**Active heat-pumps and radiators** - By passive shiled equlibirum temperature can be efficiently reduced toward tens of kelvins. For even lower temperatures passive cooling by irradiation is extremely inefficient ($P \\propto T^4$) - especially when heat is generated inside cryigenic facility by ongoing industrial processes. Since efficiency of heat pump at criogenic tempeatures is fundamentally limited by [Carnot-cycle](https://en.wikipedia.org/wiki/Carnot_cycle) the waste heat which should be dumped to space by radiators will be typically orders of magnitude higher than energy disipated in the cryogenic process. It is crucial to ensure to minimize radiative cupling between heat shields and radiators and to ather structural components of the ships, otherwise radiative cooling would be inefficient. Even worse would be scattering of some termal radiation from shiled and radiators toward cryogenci area. Radiators should be aligned in paralel with zero cossection toward to sun. \n",
    "\n",
    "**Heat scattering on other components** - Some components should be situated in place and oriented in direction which can cause scattering either dirct solar radiation or indirect termal radiation from heat shields and cooling radiators. For example **solar arrays** constitue large area which has to be irradiated by sun as much as possible. If they would be situated in wrong position (behind or to the side of cryogenci are), they would scatter huge amout of heat to the back-side of the shiled and to the radiators. Therefore only feasible position of solar arrays is in front of solar shild, which may however complicate transfer of generated electricity and services. Mass drivers have to be oriented tangentially to orbit (of sun) in order to efficiently assist orbital transfer in asteroid belt - therefore cannot be hidden behind heat shield. If they are placed in front of the heat shield it inertial of the cryogenic facility is not utilized to absorb recoil of acceleration of vessels. Also the transport of cargo between cryogenic facility and mass driver on distance of hudert meters or kilometers arround the shild would be complicated. Also the asteoride from which the facility my mine raw material scatter light and theat in various direction. Even if the body is hidden behind sunshade, it will radiated heat for hunderts of years due to its large heat capacity. Therefore such body must be situated in front of shiled, and material must be transported around the shield.   \n",
    "\n",
    "#### Hi-quality Vacuum vessels\n",
    "#### Centrifuges and artificial gravity\n",
    "#### Posture control\n",
    "#### Transport within colony\n",
    "\n",
    "due to large scale industrial facilities (such as heat shileds or mass drivers) iterdepenent industrial processes will be separated by considerable distances. We have to ensure efficient transport of comodities, components and products as well as of workforce (robots) between those nodes.   \n",
    "\n",
    "#### Transport outside colony\n",
    "\n",
    "While in initial phase of space-industrialization spacecrat should be able to arrive and leave outpost without any assistance, in later phases it will be probably advantageneous to supplent the station by facilities such as mass-drivers and sky-hooks for acceleration and de-acceleration of transport vessels. These faccilities will considerably reduce ammount of consumed propelant by substituing its inertial mass by the mass of the whole facility. \n",
    "\n"
   ]
  },
  {
   "cell_type": "markdown",
   "metadata": {},
   "source": [
    "##  Building material and technologies\n",
    "\n",
    "- Composites\n",
    "  - http://www.tethers.com/SpiderFab.html\n",
    "  - Glass fibers\n",
    "  - Carbon Fiebers\n",
    "\n",
    "- Metalic\n",
    "  - https://en.wikipedia.org/wiki/Metallic_microlattice\n",
    "  - \n",
    "\n"
   ]
  }
 ],
 "metadata": {
  "anaconda-cloud": {},
  "kernelspec": {
   "display_name": "Python 2",
   "language": "python",
   "name": "python2"
  },
  "language_info": {
   "codemirror_mode": {
    "name": "ipython",
    "version": 2
   },
   "file_extension": ".py",
   "mimetype": "text/x-python",
   "name": "python",
   "nbconvert_exporter": "python",
   "pygments_lexer": "ipython2",
   "version": "2.7.12"
  }
 },
 "nbformat": 4,
 "nbformat_minor": 1
}
