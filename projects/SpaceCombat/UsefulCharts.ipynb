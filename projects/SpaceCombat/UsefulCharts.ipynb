{
 "cells": [
  {
   "cell_type": "code",
   "execution_count": null,
   "metadata": {
    "collapsed": true
   },
   "outputs": [],
   "source": []
  },
  {
   "cell_type": "code",
   "execution_count": null,
   "metadata": {
    "collapsed": false
   },
   "outputs": [],
   "source": [
    "#%run '/Users/admin/s3_handling_poc.py'\n",
    "import sys\n",
    "sys.path.append('../../python')\n",
    "import pySimE as sim\n",
    "import pySimE.space as space\n",
    "import numpy as np\n",
    "import matplotlib.pyplot as plt\n",
    "\n",
    "'''\n",
    "Ts = np.linspace( 300,3000 )\n",
    "Ps = sim.thermalRadiativePower( temperature = Ts )\n",
    "plt.plot( Ps )\n",
    "\n",
    "plt.show()\n",
    "'''\n",
    "\n",
    "#print dir(space)\n",
    "\n",
    "\n",
    "plt.figure(figsize=(16,16))\n",
    "\n",
    "Rs = np.linspace( 100.0,10000.0,1000 )\n",
    "\n",
    "plt.subplot(2,2,1)\n",
    "plt.title( 'Escape velocity from asteroides (density=2.5kg/l)'); \n",
    "vs = space.escapeVelocity( radius=Rs, density=2500.0 )\n",
    "plt.plot( Rs, vs )\n",
    "plt.xlabel(\"Radius[m]\"); plt.ylabel(\"Escape velocity [m/s]\"); \n",
    "plt.grid()\n",
    "\n",
    "plt.subplot(2,2,3)\n",
    "plt.title( 'Surface gravity from asteroides (density=2.5kg/l)'); \n",
    "Gs = space.gravitationalAcceleration( radius=Rs, density=2500.0 )\n",
    "plt.plot( Rs, Gs )\n",
    "plt.xlabel(\"Radius[m]\"); plt.ylabel(\"Surface gravity [m/s^2]\"); \n",
    "plt.grid()\n",
    "\n",
    "Rs = np.linspace( 10.0,1.0e+9, 1000 )\n",
    "plt.subplot(2,2,2)\n",
    "plt.title(\"Escape velocity from bodies log-scale (density=2.5kg/l)\"); \n",
    "vs = space.escapeVelocity( radius=Rs, density=2500.0 )\n",
    "plt.plot( Rs, vs )\n",
    "plt.xlabel(\"Radius[m]\"); plt.ylabel(\"Escape velocity [m/s]\"); \n",
    "plt.xscale('log'); plt.yscale('log'); plt.grid()\n",
    "\n",
    "plt.subplot(2,2,4)\n",
    "plt.title(\"Surface gravity for bodies log-scale (density=2.5kg/l)\"); \n",
    "Gs = space.gravitationalAcceleration( radius=Rs, density=2500.0 )\n",
    "plt.plot( Rs, Gs )\n",
    "plt.xlabel(\"Radius[m]\"); plt.ylabel(\"Surface gravity [m/s^2]\"); \n",
    "plt.xscale('log'); plt.yscale('log'); plt.grid()\n",
    "\n",
    "plt.show()"
   ]
  },
  {
   "cell_type": "markdown",
   "metadata": {},
   "source": [
    "## ToDo\n",
    "\n",
    "* critical mass vs density (plasma, solid, presurized, fission, fusion)\n",
    "* centrifugal force\n",
    "* Orion project - pusher plate size, bomb yield\n",
    "* stress of ship structure in manuevers\n",
    "* anisotropy of gravitational field (tidal forces)\n"
   ]
  },
  {
   "cell_type": "markdown",
   "metadata": {},
   "source": []
  },
  {
   "cell_type": "markdown",
   "metadata": {},
   "source": []
  }
 ],
 "metadata": {
  "anaconda-cloud": {},
  "kernelspec": {
   "display_name": "Python 2",
   "language": "python",
   "name": "python2"
  },
  "language_info": {
   "codemirror_mode": {
    "name": "ipython",
    "version": 2
   },
   "file_extension": ".py",
   "mimetype": "text/x-python",
   "name": "python",
   "nbconvert_exporter": "python",
   "pygments_lexer": "ipython2",
   "version": "2.7.12"
  }
 },
 "nbformat": 4,
 "nbformat_minor": 1
}
