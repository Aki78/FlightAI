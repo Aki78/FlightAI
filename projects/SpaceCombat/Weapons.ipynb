{
 "cells": [
  {
   "cell_type": "markdown",
   "metadata": {},
   "source": [
    "### Ablation propeled projecties\n",
    "\n",
    "##### Construction and principle\n",
    "\n",
    "APP are typically relatively thin slightly conical disks of high-strengh material (high speed of sound and shock-resistance, berilium, diamond) coated by layer of ablative material from one side. The disk is ejected into space at low speed roughly in direction toward target and than accelerated by irradiation of the abblation layer with intense laser beam (typically pulsed laser). The exact flight direction is adjusted by asymmetric irradiation (typically within few milliradians), while the conical shape helps to make this steering more stable and efficient. The acceleration path may be very long (~1000km) - being limited only by divergence and accuracy of the irradiation laser.\n",
    "\n",
    "The acceleration is limited by power and homogenity of laser as well as strenght and speed of sound in the material, since inhomogeneous irradiation would cause that one element of disk accelerates faster than the rest, and material strenght of the dist should be sufficient to distribute these force over the whole disk. Shock waves created during ablation may also lead to deatachment of ablation layer. To minimized these stresses the mass profile of disk as well ablation layer typically follows intensity profile of irradiationg laser beam, which is usually gaussian (i.e. in centre it is much thicker).\n",
    "\n",
    "After projectile is accelerated, it should be preferably rotated by edge toward the enemy in order to minimize frontal crossection and to provide grazing-incidence angle versus enemy close defence lasers. This operation is however very difficult to achieve since    \n",
    "\n",
    "\n",
    "##### Motivation\n",
    "\n",
    "Acceleration of projectile by railgun to high velocity requires extremely long accelerator lines and magnetic fields. Since projectile is effectively acclerated just by short element of the whole line at any given line, power-density of these acceleartion lines is rather low (dead mass). Abblation accelerated projectiles are attempt to overcome these shortomings of railguns and to allow efficient solid-shot projectiles also for lighter ships."
   ]
  },
  {
   "cell_type": "markdown",
   "metadata": {},
   "source": [
    "### Difraction limit and range of Laser weapons\n",
    "\n",
    "Already in 20th century optical instruments such as microscopes and astronomical telescopes achieved such engineering perfection that their capabilities are limited only by fundamental laws of physics - namely by difraction due to wave nature of light. We call these instruments [diffraction-limmited systems](https://en.wikipedia.org/wiki/Diffraction-limited_system). This means that analysis of perforamnce of laser weapons can be done using simple physical consideration, and that conclusions following from this analysis will be valid even in far future irrespective to technological development (unless we find some other fundamental laws of physics). From point of view of diffraction-limited systems the minimal size of spot $d$ to which we can focus a laser using telescope of aperture $A$ (i.e. diameter of main mirror) is given by wavelength $\\lambda$ and distance $z$ as $L \\lambda= A d$. For practical purpose in spacecombat context it is most convenient substitue $\\lambda$ in $[10^{-6}m=\\mu m]$ and L in $10^{+6}m = 1000 km$ while $A$ and $d$ are in meters.\n",
    "\n",
    "NOTE: This formula holds in the same manner for all diffraction limited systems, both for passive telescopes as well for active lasers and [LIDARs](https://en.wikipedia.org/wiki/Lidar) (laser radars). This actually means that *what you see, you can hit*. For example, if you are able to distinguish a spot 3m spot on moon using 100m telescope in visible light, you are also able to focus visible laser on that spot.  \n",
    "\n",
    " "
   ]
  },
  {
   "cell_type": "code",
   "execution_count": null,
   "metadata": {
    "collapsed": false
   },
   "outputs": [],
   "source": [
    "from py import difraction_limit;   difraction_limit.main()"
   ]
  },
  {
   "cell_type": "markdown",
   "metadata": {},
   "source": [
    "### Angle of protection\n",
    "\n",
    "  - **passive protection** \n",
    "      - **againts solid projecties** - Due to requirement of minimal mass (required for large delta-v) space ships construction is usually very rachetic. Efficient pasive protection against solid projecties is almost impossible, and much more effective is to lower probability of being hit by increased manuverability and construction capable of inner-manuvering. Only the ships which carry large dead-weight of propelant or ships which carry rare resources (e.g. asteroide material) can strategically position this mass to position from which enemy fire is expected. Even in case of high delta-v long-range carriers, use of propelant as heavy shielding is problemantic. The propelant all spend at the and of the mission so military doctrine cannot rely on that shielding. In most military situations it is beter to damp the propelant into space in order to gain more manuvareblility rather than to use it for shielding. In addition more advanced carriers rather achive high delta-v by use of high-specific impulse thrusters rather than by use highr propelant-mass ratio. On the other hand the possibility that target will carry heavy shielding implies that some targets cannot be destroyed from distance, and that railguns and projectiles optimized for deeper penetration are sometimes are indispensable.\n",
    "      - **againts lasers** - More efficient and common is passive protection in case lasers and other direct energy weapons. At long range mirror shields tilted under grazing-incidence angles (razor-shileds) can be used to nullyfy damage inflicted by laser of almost any intensity and wavelength, as long as the shots come from narrow range of angles toward which the shield is oriented, and as long the shield construction is optimized against that wavelength. Both requirements are however difficualt to fullfill in practical situation. For this reason multiship fleet in engamemtns try to flank the enemy and fire from multiple angles, so it cannot orient its shields to both directions independently. This configuration is however also difficult to achieve in long-range engagments since travel trajectory from base to combat are is mostly predetermined by orbital mechanics (e.g. fleet from Earth to mars will fly on othe same Hoffman trajectory if all ships should reach mars simultaneously, unless some ships spend large ammount of propelant for active manuevering). \n",
    "      Also adjustment of shield for several wavelengths is problamtic. Visible, UB and near-IR lasers can be best shielded by dielectric multilayer mirrors fine tuned for particular wavelend. Metalic mirrors provide protection over broad spectrum but with lower reflectance, and therefore shild can be damaged by lower intensity of laser. Total-reflection dielectric mirrors require really narrow angles of incidence. X-ray mirrors composed of attomic layers are also very sensitive to precise interfence between atomic layers, angle and wavelength of laser"
   ]
  },
  {
   "cell_type": "markdown",
   "metadata": {},
   "source": [
    "### Time of flight and Manuevering target\n",
    "\n",
    "main limitation for use of solid-projectile based weapons such as railguns is the time of flight of projectile to target, which allows target to change its trajectory (=>position) in unpredicable way. Therefore the effective range of solid projectires is primarily determined by competion between muzzle velocity of the projectile and maximum acceleration of target (including accleration in *inner manuevers* if relevant)"
   ]
  },
  {
   "cell_type": "code",
   "execution_count": null,
   "metadata": {
    "collapsed": false
   },
   "outputs": [],
   "source": [
    "from py import maneuveringTarget;     maneuveringTarget.r_target_min=5.0; maneuveringTarget.r_target_max=300.0;\n",
    "%pylab inline\n",
    "pylab.rcParams['figure.figsize'] = (10, 6)\n",
    "\n",
    "maneuveringTarget.main(); "
   ]
  },
  {
   "cell_type": "code",
   "execution_count": null,
   "metadata": {
    "collapsed": true
   },
   "outputs": [],
   "source": []
  }
 ],
 "metadata": {
  "anaconda-cloud": {},
  "kernelspec": {
   "display_name": "Python 2",
   "language": "python",
   "name": "python2"
  },
  "language_info": {
   "codemirror_mode": {
    "name": "ipython",
    "version": 2
   },
   "file_extension": ".py",
   "mimetype": "text/x-python",
   "name": "python",
   "nbconvert_exporter": "python",
   "pygments_lexer": "ipython2",
   "version": "2.7.12"
  }
 },
 "nbformat": 4,
 "nbformat_minor": 1
}
