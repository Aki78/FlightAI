{
 "cells": [
  {
   "cell_type": "markdown",
   "metadata": {},
   "source": [
    "# Advantages of space industry (vs. planets)\n",
    "\n",
    "SThere are both advantages and disadvantages\n",
    "\n",
    "### advantages\n",
    " - **zero gravity**\n",
    "   - [Some technologies](https://en.wikipedia.org/wiki/Space_manufacturing) such as crystal groth of [proteins](http://www.nature.com/articles/npjmgrav201510) and anorganic crystals, are hapered by gravity as perturbing force. \n",
    "   - Building of large fragile structures - such as space-crafts, space-telescopes, particle acclerator and other large-scale physical experiments may be much easier in micro-gravity environment.\n",
    " - **vacuum** - many physical technologies and experiments require vacuum environment, and building vacuum vessels on earch considerably increase cost of such projects.   \n",
    "   - Electron beam and ion beam technologies - large scale machining using electron beams is older than laser machining, and it is also enegetically more efficient (due to higher efficiency of electron acclerator in comprision to laser sources) and easily controlable (magnetic deflection f beam). \n",
    "   - Molecular beam epitaxy\n",
    " - **low temeprature** - since temperature of outer space is 2.73K, almost anywhere in solar system can be achived criogenic temperatures if sun radiation is shielded. The shilding may be problematic since both atificial and natural shields (e.g. planets) radiates it own termal radiation. Nevertheless using several laryes of artificial shields teperetures around 5-10K can be regularily achieved using only passive cooling. This is considerable advantage also for very-low temperature tech (e.g. milikelvin) since active cooling and isolation is also much easier in this environment (vacuum). Technologies utilizing low temperatures include:\n",
    "   - Super-conductive technologies (magnets, generators)\n",
    "   - Quantum computing and explotation of other quantum phenomenas\n",
    "   - Low temperatures pshysical experiments\n",
    " - **abundance of some elements** which are depleted in planetary crust - Including platinum group metals, rare semiconductors (Germanium, Galium, Gadolinium, Indium, Telur ... ) and rare earth metals and Helimum-3\n",
    "\n",
    "### disadvantages\n",
    " - Lack of geological processes (especially hydraulic cycle) means that materials are not concentrated in mineral veins  (e.g. uran and theorium are very dispersed)\n",
    " - \n",
    "\n",
    "\n",
    "\n",
    "\n",
    " \n"
   ]
  },
  {
   "cell_type": "markdown",
   "metadata": {},
   "source": [
    "# Initial phase of space colonization\n",
    "\n",
    "\n",
    "## Minig of asteroides\n",
    "\n",
    "### in situe explosives\n",
    "Although technology of chemical explosive is very old and low-tech, it still remains very practical for asteroide mining. The reason is that chemical explosives provides very high density of mechanical work and force which cannot be so easily and efficiently achieved by other means (e.g. by use of solid mechanical tool, lasers, electron guns or railguns ). While chemical explosives provide much lower work density than nuclear explosives, those cannot be easily scaled down to proprotions practical for gentle and controlable mining. Chemcial explosives are usually applied in sophisticated manner by miniature robots which carefully maps gelogical structure of asteroide masive to find most suitable crack where application of explosive will be most efficient. The ammount of explosives used is much smaller thant is common in 20-century mines on earth, due to more advanced measuing techniques and atomatic analysis done by robots. It is desirable that the mechanical work exerted by explosives is just sufficent to split solid rock to pieces, but does not acclerate those pieces to hight velocity into space. Therefore consumption of explosives is actually very low per mass of mined raw material. The explosives can be produced fairly easily in situe even by low-tech chemistry. The only limitation may be ammount of nitrogen-rich substances (amonia ice, amonia salts and tritrates) or chlorates as its substituent. Nevertheless, chlorates and perchlorates can be certainly generated from cloride salts by electrolytic oxidation. These are actually more potent explosives, although not much used on earth (due to lower safety, and higher price and predominantly due to abundance of cheap nitirc acid). Also purely HCO explosives can be made e.g. in form of [organic peroxydes](https://en.wikipedia.org/wiki/Acetone_peroxide) and [ozonides](https://en.wikipedia.org/wiki/Ozonide). These substances are generally oxygen-defficient therefore which limits theyr work potential and brisance. Therefore oxidizer in form of liquid oxygen or hydrogen peroxide is very desirable. Various [mixures of fine hydrocarbons with oxygen](https://en.wikipedia.org/wiki/Oxyliquit) will be perhaps most suitable explosive for mining application, due to its simple production from commodieits produced anyway in for rocket fuels and life support cycle.     \n"
   ]
  },
  {
   "cell_type": "markdown",
   "metadata": {},
   "source": [
    "# Space structures and building technology"
   ]
  },
  {
   "cell_type": "markdown",
   "metadata": {},
   "source": [
    "# Transport and trade\n",
    "\n",
    "## transport of whole asteroides \n",
    "In long term scope, it is certainly advantagenous to organize many smaller asteorieds into cluster (cities). The motivation (i) to improve connection and reduce transport cost and time for interdependnet economic processes and (ii) to scale up ammount of concentrate economical which increase efficiencey by economy of scale and allows to achieve some critical mass for more-sophisticated higher level industries. However, moving of asterieds represent considerable technical chalange. The phase-space of all posible orbits occupied by asteroides is fairly large (and 4 dimensional), so the average distance between reasonably sized asteorieds (100-10000m) is also large. Therefore there is considerable $\\Delta$-v cost for any such manuever. Even in case when asteroides occupy almost the smae orbit, the orbital synchonization will be either costly (in $\\Delta$-v) or will take long time (10-100 years). Considering large mass of moved objects, very cheap means for accleration of these object are required. The best per-impuls-cost is provided certainly by nuclear bombs which ablate surface material of asteroides. Nevertheless, this methods generated large instantenous accleration and shock in the surface, which many fragile ruble-pile asteroides cannot bare (they will spalate large fraction of surface mass). Also the methods is not particularily friently to already build infractructure of kolonized asteroieds. Threfore also more gentle methods are employed. Most effective is use nuclear thermal or solar thermal rocket with in-situe harvested volatiles used as propellant. When material of asteroide in depleted of volatiles chunks of asteoride material acclerated by electromagnetic mass-driver are used as propelant. Building such mass driver and sufficient supply of electrical energy is much more costly than simple thermal rocket (in per-impulse costs). \n",
    "\n"
   ]
  }
 ],
 "metadata": {
  "anaconda-cloud": {},
  "kernelspec": {
   "display_name": "Python 2",
   "language": "python",
   "name": "python2"
  },
  "language_info": {
   "codemirror_mode": {
    "name": "ipython",
    "version": 2
   },
   "file_extension": ".py",
   "mimetype": "text/x-python",
   "name": "python",
   "nbconvert_exporter": "python",
   "pygments_lexer": "ipython2",
   "version": "2.7.12"
  }
 },
 "nbformat": 4,
 "nbformat_minor": 1
}
