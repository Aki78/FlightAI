{
 "cells": [
  {
   "cell_type": "markdown",
   "metadata": {},
   "source": [
    "# Character of space combat\n",
    "\n",
    "On first glance **space combat is rather boring** - there is not much to do. While the major part of military tactics on Earth concerns with things like use of terrain, camuflage, and surprise manuevers, nothing like that exists in space. This is due to lack of virtually any environment to interact with and anything to hide behind. Rapid manuevers simply consume too much precius propelant and therefore cannot be broadly used in combat.\n",
    "\n",
    "Rule of space combat are dictated by vast ammount of emty space. This infinite void is an ideal playground for most pure physics - unperturbed by ground friction, air drag, gravity or atmospheric abberations of vision. Therefore spaceships can engage each other form distatance uncomparable to anything known from Earth (thousands and milions of kilometers). The ship which can engage the target from larger distance will win. \n",
    "\n",
    "## What it is not like\n",
    "\n",
    "In sci-fi you can see mostly two imaginations of space-combat 1. *heavy invincible battleships* and *dog-fignts between light interceptors*. These ideas are inspired by naval tradition on Earth - namely by the transitions from battleships to aircraft carrier in pacific during world-war two. Both these ideas ignore basic fact that acceleration in space is tremendously costly and that this cost determine engineering of spaceships. This ignorance is as serious as would be ignorance of aerodynamics and hydrodynamics in naval and air combat tactics. Therefore most of those space combat tactics are rather fantasy than sci-fy. The presented space ship designs are as physically meaningfull  as would be medieval dragon (with non-streamlined multiple heads and stubby wings) in air combat. Lets discuss problems of the two comcepts in mode detail:\n",
    "  1. battles between invincible **heavy battleships** - inspired by age of sail, where the massive hull and shields of the enemy can be only slowly wered off in battle of attrition. This vision is unrealistic due to price you have to pay for carrying of heavy shield and due to tremendous power of modern weapon. The acceleration of ship $a$ is given by $a=F/m$ where $F$ is thrust force form engine and $m$ is mass of the ship. Heavy ship has poor both [delta-v](https://en.wikipedia.org/wiki/Delta-v) capacity (therefore limited strategic mission range) and maximium acceleration. It is almost always better to decrease mass of the ship, in order to achive better manueverability (to avoid being hit) than try to stop the shot which hits you by heavy shield. \n",
    "  2. **dog-fignts between light interceptors** released from *aircraft* carries. The problem is that there is no air in space, and without air you don't get better trun-rate for small fighter than for huge mothership. The turn-rate is acceleration and unltimately it can be reduced to power density. Power output of engine $P = F v_{exh} = m a v_{exh}$ is product of acceleration $a$ and mass $m$ of ship the ship and exhaust velocity of propelant $v_{exh}$. Therefore acceleration can be improved either by increase of power density $P/m = a v_{exh}$ of by decrease of exhaust velocity $v_{exh}$. Reduction of exhaust velocity however means that that we have to exhaust more propelant per second to achieve same acceleration ( $ \\partial m/\\partial t = a / v_{exh} $ ) and according to [Tsielkovsky equation](https://en.wikipedia.org/wiki/Tsiolkovsky_rocket_equation) it would considerably limit [delta-v budget](https://en.wikipedia.org/wiki/Delta-v_budget) and mission range of space craft. Therefore ultimatively question is - are there some resons why small space-craft can achieve higher power density $P/m$ or why it can get along with lower delta-v budget than large one? \n",
    "\n",
    "### Agile figthers and dog-figths ?\n",
    "\n",
    "Now the question is, why should small ship posses better power density than large ship? And the answer derived from power laws is tow-fold:\n",
    "   1. On one hand, **larger space engines are more efficient**. Especially for various nuclear engines there exist some minimal size (e.g. [critical mass](https://en.wikipedia.org/wiki/Critical_mass), critical radius) from which the thecnology can work at all. For example pulsed-nuclear engines require to confine the nuclear burn in the pulse-device, which means that the size of pulsed device must be larger than penetration depth of neutron and other radiation. This is not just matter of radiation protection, but most importaintly of efficient utilization released heat (in termonuclear fussion devices) and neutrons (in fission devices) for self-susteined nuclear burn. This determined size of [Orion project](https://en.wikipedia.org/wiki/Project_Orion_(nuclear_propulsion)) - You cannot make nuclear bomb much smaller than 1kT and good efficiency provide only thermonuclear bombs from 1Mt higher. No light fighter (few tons, few meters) can carry such engine. Considerably smaller critical sizes can be achived with advanced fussion (e.g. aneutrogenic fussion), but still most efficient nuclear engines requires space ships hunderts of tuns heavy and hunderts of metters in size.\n",
    "   2. On the other hand, higher surface-to-volume ratio of smaller ships is advantage in some situations. \n",
    "     1. Due to that fact it is in principle easier to cool waste heat from smaller ship assuming the same power density. This advantage however cannot fully compensate larger amout of waste heat produced in smaller nuclear engines due to inferior confinement.\n",
    "     2. Smaller ships are much more suitable for sainling in solar light, solar wind and in magnetic fields using electromagnetic tethers. For the same reason machines propeled by ion-thrusters powered by thin-foil photovoltaic are much more suitable for small space ships. Although none of this solutions can achieve performance (especially acceleration) of pulsed nuclear and other advanced nuclear engines, it is perhaps most feasible and most economic way of transport in early stages of colonization of solar system. Therefore fleets of lightweight ships are expected to play importiant role in this phase. One disadvantage of solar powered ships and sail-ships is their observability and fragility in comparison to low weapon yield. \n",
    "     3. On limitation of large space-ships is their high momentum of inertia which makes orientation of ship (and other inner manuevers) slower than in smaller ships. Similarily this is limited to larger centrifugal and corriolis forces experienced in such munuevers, which may be incompactible with racetic construction designed for zero-g environemnt. In smaller ships it is much easier to ensure structural integrity of ship during rapid inner manuevers.\n",
    "      \n",
    "\n",
    "### Element of surprise ?\n",
    "\n",
    "Space ships are aware of position and course of each other from distance of milions and billions of kilomenters. Using powerfull optical telescopes with multimeter apertures, objects of size just few meters can be observed from Earth to moon. Powerfull thrusters emmit heat radiation in the order of gigawatts and terrawats which can be observed across the whole solar system. As long as engines are off observability of even quite large space ships can be reduced by use of 99.99% black paint, or by use of specular-reflection mirrors (reflectiong the blackness of space arround). However, trajectory of a space ship with inactive engine is completely predictable from position and speed of that ship at the last moment when the engine was switched off. Therefore hardly any surprise can be achieved by switching off engine - or can it? \n",
    "\n",
    "There exsist a few options. First off all, the ship can execute thrusters burns in the moment when it is occluded by other objects (e.g. by planet or asterodie). This however requires high impulse trusters which consume lot of propelant and require intense power load compressed into short time. Other option is to exploit chaotic nature of cosmic billiard, there are special constelations of gravitational fields where a small delta-v can lead to large difference of final state after several interactions with planets. E.g. using Oberth effect and gravity slingshot only very small acceleration can change eliptical orbit to hyperbolic escape trajectory. The larger the number and mass of celestial bodies involved in the manever the less predictable it is. Nevertheless, most of the time space ships spend in void far from any planets, so oppurtinities for such manuevering tricks are rother rare. On the orther hand, strategic goals of space combat are in the end just these massive bodies, not the empty space, therefore those tricks can be appliet right in the most importaint battles near the strategic targets.  \n",
    "\n",
    "\n",
    "# Goals and aspects of military space-ship design\n",
    "\n",
    "- [**Mobility and Maneuverability**](Manueverability.ipynb)\n",
    "   - **Total delta-v** - to perform military mission it is necessary conduct several orbital manuevers (changing orbit arround sun and other plantes). High impulse military ship can easily escape form or intercept other military space ship. Shorter transit time e.g. from Mars to Jupiter are possible for ship with high delta-v capacity. Also ship with large delta-v capacity can operate long time independently, without often propelant refueling. Delta ve of space ship is driven by Tsielkovsky equation $\\Delta v = v_{exh} ln(m_0/m_1)$. For this purpose empty weight of the ship have to be minimized in relation to mass of propellant, or it is necessary to use thruster accelerating prepelant to high exhaust velocity.\n",
    "   - **peak acceleration** - In space trajectory of an object without thrust is fully predictale and can be computed from observed position and speed with almost arbitrary precission. For combat it is crucial to be able change unpredictably change trajectory, and react to unpredictable manuevers of enemy. Also ability to exploit opurtinity of e.g. gravity slingshot strongly depend on maximim acceleration which space ship can exert in short time. It is driven by newton law $ a = F/m $. For this purpose mass of the ship (both empty weight and propelat should be minimized). \n",
    "   - **trade off: specific impulse vs. thrust** - Since space ship thrusters are limited by power density (often by waste heat) and by propelant mass. High total delta-v can be achieved using high specific impulse, which however provide only low acceleration for given power. The basic relation is $P = F v_{exh}$ therefore $a = P/(m v_{exh})$. This naturally lead to division of ships on agile short-range fighters (sprinters) with high-thrust engines and small amount of proplelant, and long range carriers with low-thrust high-specific impulse engines and large mass of propelant.  \n",
    "   - **inner manuevers** - There is a way how to execute rapid manuevers without spending any propelat by using parts of the same ships, or several connected ships as a counter weight. Most simple version is simple tether or girder between two space ships which allows actively change distance betwen the objects by pulling or railing along the girder. Such ropes or girders can form more complex 3D trusses and tensegrity structures which allows to actively deform and change configuration along more axes. The voids between the bodies in this structures are large enought that enemy shots (e.g. lasers or railgun projectiles will most probably go throught these holes with negligible chance to hit the ship body). Other versions are ship huls formed into rotational structures (actually large fly-wheels). However the problem with this solution is that gyroscopic effects (skew) considerably complicate manuevers.   \n",
    "- [**weapons**](Weapons.ipynb)\n",
    "  - **range** - range is distance on which ship is able to hit pasive or actively manuevring target. It is most critical characteristics of space weapons since these weapons are usually powerfull enough do destroy almost any of the rachetic spaceships by single good hit. But to score good hit on distance of thousands or milions of kilomenters to a manuevring target is quite difficult.\n",
    "    - **time of flight** - Space combat is competition between manueverability of target and time-of-flight of shots fired upon it. Considering distances $10^3-1000^6$ it becomes impossible to accelerate any solid projectiles to such speed than enemy shit will not execute at least some evasive manuevers. Therefore combat using most destructive weapons with solid projectiles (accelerated using rail-guns, coil guns and mass-drivers) is possible only on rather short range. On longer range direct energy weapons such as lasers or particle acclerators can be used, but these weapons are less destructive and can be more easily deflected.   \n",
    "    - **dispersion** - Both direct energy weapons and solid projectiles suffer from dispersion of some sort. In case of laers it is **difraction** of laser light given by formula $ \\lambda [\\mu m] . distance [1000 km] = A [m] . S [m] $. This means that in order to effectively focus energy of laser let's say on spot of size 10x10m (100m^2) on distance 100000km we have to use either large aperture (10-1000m) or short wavelength (X-ray). In case of solid projectiles the term dispersion means something a bit differnt - due to limited mechanical stability and precission of weapon there is some random component of initial lateral or longitudinal velocity of projectile (typically with gaussian distribution). Similarily to lasers also in case of solid projectiles the radius of spot into which the fire is focused scales linearlily with distance, and consequently the area ower which the fire is spread scales with second power of distance.      \n",
    "  - **damage** - While lasers are most favourable weapon for long-range engagements \n",
    "- **protection**\n",
    "  - **passive protection** \n",
    "      - **againts solid projecties** - Due to requirement of minimal mass (required for large delta-v) space ships construction is usually very rachetic. Efficient pasive protection against solid projecties is almost impossible, and much more effective is to lower probability of being hit by increased manuverability and construction capable of inner-manuvering. Only the ships which carry large dead-weight of propelant or ships which carry rare resources (e.g. asteroide material) can strategically position this mass to position from which enemy fire is expected. Even in case of high delta-v long-range carriers, use of propelant as heavy shielding is problemantic. The propelant all spend at the and of the mission so military doctrine cannot rely on that shielding. In most military situations it is beter to damp the propelant into space in order to gain more manuvareblility rather than to use it for shielding. In addition more advanced carriers rather achive high delta-v by use of high-specific impulse thrusters rather than by use highr propelant-mass ratio. On the other hand the possibility that target will carry heavy shielding implies that some targets cannot be destroyed from distance, and that railguns and projectiles optimized for deeper penetration are sometimes are indispensable.\n",
    "      - **againts lasers** - More efficient and common is passive protection in case lasers and other direct energy weapons. At long range mirror shields tilted under grazing-incidence angles (razor-shileds) can be used to nullyfy damage inflicted by laser of almost any intensity and wavelength, as long as the shots come from narrow range of angles toward which the shield is oriented, and as long the shield construction is optimized against that wavelength. Both requirements are however difficualt to fullfill in practical situation. For this reason multiship fleet in engamemtns try to flank the enemy and fire from multiple angles, so it cannot orient its shields to both directions independently. This configuration is however also difficult to achieve in long-range engagments since travel trajectory from base to combat are is mostly predetermined by orbital mechanics (e.g. fleet from Earth to mars will fly on othe same Hoffman trajectory if all ships should reach mars simultaneously, unless some ships spend large ammount of propelant for active manuevering). \n",
    "      Also adjustment of shield for several wavelengths is problamtic. Visible, UB and near-IR lasers can be best shielded by dielectric multilayer mirrors fine tuned for particular wavelend. Metalic mirrors provide protection over broad spectrum but with lower reflectance, and therefore shild can be damaged by lower intensity of laser. Total-reflection dielectric mirrors require really narrow angles of incidence. X-ray mirrors composed of attomic layers are also very sensitive to precise interfence between atomic layers, angle and wavelength of laser       \n",
    "  \n",
    "  - **active protection**\n",
    "\n"
   ]
  },
  {
   "cell_type": "markdown",
   "metadata": {},
   "source": [
    "## Basic layout of military space-craft\n",
    "Basic layout of spacecraft is determined by functional requirements of undralaying laws of physics and scalling laws. We try to **maximalize** parameters such as: \n",
    "  1. area of \n",
    "    - telescope and laser apertures\n",
    "    - heat radiators\n",
    "    - plazma nozzles and pusher plates - (in order to maximized thrust with limited radiation and heat load nozzle can sustain)\n",
    "    - solar panels\n",
    "    - Heat radiators\n",
    "  2. length of railguns and particle accelerators - to achieve higher muzzle velocity, and shorter wavelength in free electron lasers\n",
    "  3. span of counter weights used in inner manuevers - to allow larger inner-manuevers which makes it harder for enemy to hit the spacecraft \n",
    "and minimalize parameters such as:\n",
    "  1. area exposed to enemy\n",
    "  2. Moment of inertia main hull - to orient ship in particular direction in shoter time, and reduce mass of counter-weight needed for inner manuevers \n",
    "\n",
    "#### Plate Layout\n",
    "<img src=\"SVG/layout_disk.svg\">\n",
    "The layout maximize projected area along forward direction (z-axis, xy-plane; direction of the flight), and minimize area in perpendicular directions. While this layout is contra-intuitive anywhere on Earth (due to aerodynamics and hydrodynamics) in space it makes perfect sense (although 20th centrury chemical rockets looks opposite). Obvisous problem, however, is the large frontal area exposed to enemy. The main motivation are requirements of powerfull propulsion systems, and long range sensor and weapon apertures. For this reasons the design is most suitable for support of other combatad from far distance, and should not enter closer range combat. If such situation is unavoidable, it is recomanded to orient the plate perdiculary to enemy, exposing only narrow edge of the plate.    \n",
    "\n",
    " - **Propulsion** - This layout is virtually unavoidable for high-thrust high-specific pulsed-nuclear propulsion in order to limit power-load per area of pusher plate without caousing to much ablation by heat and radiation. Layout of [Orion](https://www.classe.cornell.edu/~seb/celestia/orion/images/orion-40kt.jpg) and [Daedalus](https://en.wikipedia.org/wiki/Project_Daedalus) was approaching toward this limit, when scaled up.\n",
    " - **Weapons and equipment** - Frontal area of the space craft is usually dedicated to large aperture of long-range telescope and longer-wavelengt laser (Terahertz,IR,Vis). In ideal case (if laser technology achieve this sophistication) the laser radiation is generated by thin active medium directly in the aperture (in contrast of 20th centrury military lasers where radiation generated in smaller active medium is only projected by larger mirror aperture). \n",
    "   - Main technical issue is to ensure wavefront coherency (i.e. phase synchronization) along the whole large aperture. Such laser is most similar to current technology of [phase-synchronized-arrray](https://en.wikipedia.org/wiki/Phased_array) radars bring enough power to pump this laser, but phase synchronization is much more difficult for shorter wavelength. Nevertheless, curently was already achieve long-range phase synchrnization e.g. in [iterferometric telescopes](https://en.wikipedia.org/wiki/Astronomical_interferometer) and [gravity wave detectors](https://en.wikipedia.org/wiki/LIGO) based on laser interferometers. \n",
    "   - An other issue is to ensure enouth peak imput power to pumpu this laser. This can be perhaps done by two means\n",
    "     - High-voltage capacitor plate distributed over the whole aperture ( e.g. 1GV bias with 1m spacing of electrodes, will create field 1eV/nm, which is still withing [limits](https://en.wikipedia.org/wiki/Electrical_breakdown) to prevent [field-emmision](https://en.wikipedia.org/wiki/Field_electron_emission) and catastrophic discharge )\n",
    "     - Induction of [eddy current](https://en.wikipedia.org/wiki/Eddy_current) by expansion of nuclear-pulse plasma. The problem is how to transfer the tremendous currents induced in pusher plate toward the laser thouh the central area of the ship (sandwithed between them) where more fragile equipment is situated\n",
    " - **protection** - The only protection from the front is perpendicular mirror of the aperture and pussher plate. Such protetion is insufficient for close range combat (no protection against solid projectiles). The mirror is effective only against longer wavelength lasers and only from distance $>10^5$km. To provide close range protection sometimes one side of the plate is decorated by tilted mirror shields which allows this ship to survive from distance up to $1000$km when rotated perpendicuralily to the enemy.   \n",
    "\n",
    "#### Stick layout\n",
    "![](SVG/layout_stick_2.svg \"SVG/layout_stick_2.svg\")\n",
    "low-tech ship propeled with nuclear theremal rocket. See also [3D view](https://rawgit.com/ProkopHapala/SimpleSimulationEngine/master/projects/SpaceCombat/HTML/StickSpaceCraft.html) \n",
    "\n",
    "![](SVG/layout_stick.svg \"SVG/layout_stick.svg\")\n",
    "Hi-tech Hi-specific impulse space-craft with inflatable magnetic coil-based propulsion nozzles\n",
    "\n",
    "This layout is exact inverse of plate layout - it tries to accomodate larger body behind minimal forontal area. The desing is motivated by (1) protection of the ship from particular angle (2) by requirement to accelerate of either solid projecties or particles along long acceleration path ($E =F.s$; $v=\\sqrt(2E/m)$; $v=\\sqrt(2.a.s)$). The main problem of the layout is limited manuevering capability caused by large momentum of intertia (for inner manuevers), and small are of propultion nozzle. \n",
    "\n",
    "- **Propulsion**\n",
    "- **Weapons and equipment**\n",
    "- **protection** \n",
    "\n",
    "#### Ring layout\n",
    "\n",
    "#### Cage layout"
   ]
  },
  {
   "cell_type": "markdown",
   "metadata": {},
   "source": [
    "### Mission capabilities\n",
    "\n",
    "Maximum acceleration and delta-v limit missions which can be conducted by space ship. Typical mission is composed of two parts\n",
    "  1. **accelerated motion** with active trust - during this phase traveled distance grows quadratically with time as $s = 0.5 at^2$ (where $a=F/m$ is acceleration determined by engine thrust $F$ and mass of the ship $m$ )\n",
    "  2. passive **intertial coasting** - during this phase traveled distance linearlily with time as $s = v t$ where $v$ is the velocity achieved at the end of thruster burn.\n",
    "  \n",
    "This simple analysis is exact only in empty space without gravity (or other forces) from planets and stars. It also holds quite well when delta-v of space ships is much higher than escape velocity of any planets or stars. This analysis is derived just for fly-by missions where space ship does not slow-down at target (resp. does not match its velocity). However, generalization for full transfer including velocity matching is strainghtforward, since slow down is exactly symmetric to acceleration - therefore time required for acceleration is just doubled.\n"
   ]
  },
  {
   "cell_type": "code",
   "execution_count": null,
   "metadata": {
    "collapsed": false,
    "scrolled": false
   },
   "outputs": [],
   "source": [
    "from py import timeToDistance; timeToDistance.main()"
   ]
  },
  {
   "cell_type": "markdown",
   "metadata": {},
   "source": [
    "As you can see from the previous log-log plot the distance traveled by the ship exhibit a kink between accelerated phase and inertial costing case. You can also notice minor curvature just before the kink which is due to decreasing mass of the ship as fuel is spend - but this effect is rather small unless the ship has very large propelent mass ratio. \n",
    "\n",
    "#### Further simplification\n",
    "The analysis can be therefore further symplified. Exploiting the fact that the curve is composed of two (almost) linear parts we use slope the the curves (which is 1.acceleration $a$ and 2.delta-v $\\Delta v$) as new axes. This means afine transformation of log-log axes. At the end we obtain new log-log plot where we can for any combination of ($a$,$\\Delta v$) read time required to reach particuler distance, and corresponding power density required. "
   ]
  },
  {
   "cell_type": "code",
   "execution_count": null,
   "metadata": {
    "collapsed": false
   },
   "outputs": [],
   "source": [
    "from py import maxDeltaV_approx; maxDeltaV_approx.main()"
   ]
  },
  {
   "cell_type": "code",
   "execution_count": null,
   "metadata": {
    "collapsed": false
   },
   "outputs": [],
   "source": [
    "from py import difraction_limit;   difraction_limit.main()"
   ]
  },
  {
   "cell_type": "markdown",
   "metadata": {},
   "source": [
    "### Further reading and sources\n",
    "\n",
    "- Project Rho: Atomic rockets http://www.projectrho.com/public_html/rocket/\n",
    "  - http://www.projectrho.com/public_html/rocket/spacewarintro.php\n",
    "  - http://www.projectrho.com/public_html/rocket/torchships.php\n",
    "  - http://www.projectrho.com/public_html/rocket/spacegunconvent.php\n",
    "- Nuclear weapons FAQ - http://nuclearweaponarchive.org/Nwfaq/Nfaq0.html\n",
    "- John Lewis - \n",
    " - http://www.uapress.arizona.edu/onlinebks/ResourcesNearEarthSpace/contents.php\n",
    " - https://en.wikipedia.org/wiki/Mining_the_Sky\n",
    "- Tethers unlimited - http://www.tethers.com/\n",
    "- Childern of Death earth \n",
    " - steam page of the game http://store.steampowered.com/app/476530/\n",
    " - Science behind the game https://childrenofadeadearth.wordpress.com/\n",
    "- Next big future : space\n",
    " - http://www.nextbigfuture.com/search/label/space\n",
    "- Papers\n",
    " - direct energy weapons for boost-phase intercept - https://www.princeton.edu/~ota/disk3/1984/8410/841005.PDF\n",
    "\n",
    "###  TODO \n",
    "\n",
    " - Humanities of space combat - geopolitics, context of civilization development, cultural constant, role of warfare in evolution, colonial wars and expension of civilization to new teritory\n",
    " - History of development \n",
    "   - First nuclear thermal, and solar electric, then pulsed nuclear fulsed, then fussion\n",
    " - Interactive 3D javascript applets - [test](http://htmlpreview.github.io/?https://github.com/ProkopHapala/SimpleSimulationEngine/blob/master/projects/SpaceCombat/HTML/HelloThreeJS.html) \n",
    "   - [StickSpaceCraft](http://htmlpreview.github.io/?https://github.com/ProkopHapala/SimpleSimulationEngine/blob/master/projects/SpaceCombat/HTML/StickSpaceCraft.html) \n",
    " \n",
    "### Themes to consider\n",
    "\n",
    "- Metalic micro frameworks - http://www.nextbigfuture.com/2016/12/hrl-confirmed-lightest-material-as.html"
   ]
  }
 ],
 "metadata": {
  "anaconda-cloud": {},
  "kernelspec": {
   "display_name": "Python 2",
   "language": "python",
   "name": "python2"
  },
  "language_info": {
   "codemirror_mode": {
    "name": "ipython",
    "version": 2
   },
   "file_extension": ".py",
   "mimetype": "text/x-python",
   "name": "python",
   "nbconvert_exporter": "python",
   "pygments_lexer": "ipython2",
   "version": "2.7.12"
  }
 },
 "nbformat": 4,
 "nbformat_minor": 1
}
