{
 "cells": [
  {
   "cell_type": "markdown",
   "metadata": {},
   "source": [
    "### Mission capabilities\n",
    "\n",
    "Maximum acceleration and delta-v limit missions which can be conducted by space ship. Typical mission is composed of two parts\n",
    "  1. **accelerated motion** with active trust - during this phase traveled distance grows quadratically with time as $s = 0.5 at^2$ (where $a=F/m$ is acceleration determined by engine thrust $F$ and mass of the ship $m$ )\n",
    "  2. passive **intertial coasting** - during this phase traveled distance linearlily with time as $s = v t$ where $v$ is the velocity achieved at the end of thruster burn.\n",
    "  \n",
    "This simple analysis is exact only in empty space without gravity (or other forces) from planets and stars. It also holds quite well when delta-v of space ships is much higher than escape velocity of any planets or stars. This analysis is derived just for fly-by missions where space ship does not slow-down at target (resp. does not match its velocity). However, generalization for full transfer including velocity matching is strainghtforward, since slow down is exactly symmetric to acceleration - therefore time required for acceleration is just doubled.\n"
   ]
  },
  {
   "cell_type": "code",
   "execution_count": null,
   "metadata": {
    "collapsed": false,
    "scrolled": false
   },
   "outputs": [],
   "source": [
    "from py import timeToDistance\n",
    "timeToDistance.main()"
   ]
  },
  {
   "cell_type": "markdown",
   "metadata": {},
   "source": [
    "As you can see from the previous log-log plot the distance traveled by the ship exhibit a kink between accelerated phase and inertial costing case. You can also notice minor curvature just before the kink which is due to decreasing mass of the ship as fuel is spend - but this effect is rather small unless the ship has very large propelent mass ratio. \n",
    "\n",
    "#### Further simplification\n",
    "The analysis can be therefore further symplified. Exploiting the fact that the curve is composed of two (almost) linear parts we use slope the the curves (which is 1.acceleration $a$ and 2.delta-v $\\Delta v$) as new axes. This means afine transformation of log-log axes. At the end we obtain new log-log plot where we can for any combination of ($a$,$\\Delta v$) read time required to reach particuler distance, and corresponding power density required. "
   ]
  },
  {
   "cell_type": "code",
   "execution_count": null,
   "metadata": {
    "collapsed": false
   },
   "outputs": [],
   "source": [
    "from py import maxDeltaV_approx\n",
    "maxDeltaV_approx.main()"
   ]
  },
  {
   "cell_type": "markdown",
   "metadata": {},
   "source": [
    "### Refueling on the fly and Fuel pelet paving\n",
    "\n",
    "Natural way to overcome harsh constrains of Tsielkovsky rockt equation is supplement fueld on the fly. The crucial problem with such approach is that \n",
    " 1. Refueling stations have to be nearbye, which is difficulet due to vast empty areas of space\n",
    " 2. In order to catch refueling module the velocity should be matched with our ship, which means that refueling module must acheive similar delta-v as our ship, and possibly even in shorter time.\n",
    "\n",
    "Combinations of these problem limits practicality of in flight refueling to rather specialized cases and aproaches.\n",
    "\n",
    " 1. **Virtual booster line** - When ship is nearbye friendly base (or smaller craft nearbye larger mothership) it would be great to use plentiful facilities of the base to help with acceleration/deacleleration while saving own fuel. Using solid accelerator (e.g. electromagnetic mass driver) for such purpose is possible, but in order to provide enough delta-v (>10km/s) the acceleration line would be impractically long (thousands of kilometers) and/or acceleation forces too high (>100G). Instead we can shoot fuel pelets (e.g. small nuke bombs ala Orion Project) toward the ship and accelerate it by fly-by of row of explotions in similar way as [German V-3 cannon](https://en.wikipedia.org/wiki/V-3_cannon) in wwII.  \n",
    "     * Imagine simple situation of outgoing ship on stight line with constant acceleration $a$ which trajectory evolve with time as $s=0.5 a.t^2$. We can imagine projectiones shooting after departure of the ship in such a way that they meet the ship at some point $s_i$ matching its velocity $v=a t_i$. This means that on plt $s(t)$ linear trajectories of projectiones would be tangent to trajectory of the ship.\n",
    "     * Advantage over direct acceleration of ship. - Acceleration of a large ship is difficult due to many factors - it is one large chunk of mass which should be accelerated as a whole. While fuel pelepts can be accelrated in many hunderts or thousands shots, which utilize smallet railgun over longer time (instead of intense peak power and then long idle time). Also small simple pelets can be made to survive much higher acceleration than large sophisticated spaceship optimized from low-g environment. The limiting factor is velocity which can be achieved with stationary railgun. The speed scales as $v = sqrt(2.s.a)$ therefore if projectiles can achieve 100 higher acceleration then ship they can use 100x shorter accelerating line. You can perhaps never get beyong limit 100 km/s ( 1000km accelerator with 1000G acceleration). \n",
    " 2. **static fuel pelet paving** - \n",
    "    * **fuel pelet ramming** - If the velocity of ship is sufficiently high, impact of fuel pelet to solid target can be sufficient ignite of nuclear device. Alredy at velocities ~10 km/s it is possible to achieve quite efficient assemly of properly shaped supercritial fissin target. One can think also about direct ignition of fussin targets althouth this would require order of magnitude higher velocities (~100km/s?)  \n",
    " 3. **dynamic fuel intercept**"
   ]
  }
 ],
 "metadata": {
  "anaconda-cloud": {},
  "kernelspec": {
   "display_name": "Python 2",
   "language": "python",
   "name": "python2"
  },
  "language_info": {
   "codemirror_mode": {
    "name": "ipython",
    "version": 2
   },
   "file_extension": ".py",
   "mimetype": "text/x-python",
   "name": "python",
   "nbconvert_exporter": "python",
   "pygments_lexer": "ipython2",
   "version": "2.7.12"
  }
 },
 "nbformat": 4,
 "nbformat_minor": 1
}
