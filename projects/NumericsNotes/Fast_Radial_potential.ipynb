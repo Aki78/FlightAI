{
 "cells": [
  {
   "cell_type": "markdown",
   "metadata": {},
   "source": [
    "# Fast Radial Potential\n",
    "\n",
    "The goal is sum up radial potential function with nice properties such as\n",
    "  - fast evaluation (e.g. low degree polynominal)\n",
    "  - finite support (to allow linear scaling N-body simulation)\n",
    "  - smooth derivatives (1st, 2nd)\n",
    "  - can be computed from $r^2$ rather than $r$ (so save `sqrt()` in vector lenght evaluation)\n",
    "  - crucial features such as (1) minimum position (2) minimum energy (3) node position can be easily tuned\n",
    "  - can be factorized for parir of atoms (therefore it can be stored on grid)\n"
   ]
  },
  {
   "cell_type": "code",
   "execution_count": null,
   "metadata": {
    "collapsed": false
   },
   "outputs": [],
   "source": [
    "# initialize environment\n",
    "%matplotlib inline\n",
    "import numpy as np\n",
    "import matplotlib.pyplot as plt\n",
    "import sympy as sy\n",
    "x = np.linspace(0.0,10.0,1000)\n",
    "dx = x[1]-x[0]\n",
    "\n",
    "def numDeriv( x, f ):\n",
    "    return (x[1:]+x[:-1])*0.5, (f[1:]-f[:-1])/(x[1:]-x[:-1])\n"
   ]
  },
  {
   "cell_type": "markdown",
   "metadata": {},
   "source": [
    "### How to use $|\\vec r|^2$ instead of $|\\vec r|$ (get rid of `sqrt()`)\n",
    "\n",
    "$F(\\vec r) = {\\vec r} (F(r)/r$)\n",
    "\n",
    "So we have to express $f(r)=F(r)/r$ in terms of only $(r^2)^N$. For example function $F(r) = (1-r^2)$ is not good since $f(r)=(1-r^2)/r$ requires explicit evaluation of $r^{-1}$. But function $F(r) = (1-r^2)*r$ and $F(r) = (1-r^2)/r$ are good since $f(r)=(1-r^2)$ and $f(r)=(1-r^2)/r^2$ can be efficinetly expressed in terms of only $(r^2)^N$. Notice, that for any polynominal radial potential $V(r)$ composed of only $(r^2)^N$ the resulting force ( i.e. derivative $\\partial_r r^N = r^{N-1}$ ) always fullfill this condition."
   ]
  },
  {
   "cell_type": "code",
   "execution_count": null,
   "metadata": {
    "collapsed": false
   },
   "outputs": [],
   "source": [
    "def func1(r):\n",
    "    r2 = r**2\n",
    "    E  = 1-r2\n",
    "    fr = -2\n",
    "    return E,fr*r\n",
    "\n",
    "def func2(r):\n",
    "    r2 = r**2\n",
    "    E  = (1-r2)**2\n",
    "    fr  = -2*(1-r2)\n",
    "    return E,fr*r\n",
    "\n",
    "def func3(r):\n",
    "    r2 = r**2\n",
    "    E  = 0.1*(    (1-r2)*     (4-r2)  )\n",
    "    fr = 0.1*( -2*(1-r2) + -2*(4-r2)  )\n",
    "    return E,fr*r\n",
    "\n",
    "def func4(r):\n",
    "    r2 = r**2\n",
    "    E  = 0.1*(    (1-r2)*            (4-r2)**2  )\n",
    "    fr = 0.1*( -4*(1-r2)*(4-r2) + -2*(4-r2)**2  )\n",
    "    return E,fr*r\n",
    "\n",
    "def func5(r):\n",
    "    r2 = r**2\n",
    "    E  = 0.05*(    (1-r2)*               (4-r2)**3  )\n",
    "    fr = 0.05*( -6*(1-r2)*(4-r2)**2 + -2*(4-r2)**3  )\n",
    "    return E,fr*r\n",
    "\n",
    "def func6(r):\n",
    "    r2 = r**2\n",
    "    E  = 0.025*(    (1-r2)*               (4-r2)**4  )\n",
    "    fr = 0.025*( -8*(1-r2)*(4-r2)**3 + -2*(4-r2)**4  )\n",
    "    return E,fr*r\n",
    "\n",
    "funcs = [func1,func2,func3,func4,func5,func6]\n",
    "for func in funcs:\n",
    "    E,F = func(x)\n",
    "    plt.subplot(2,1,1); plt.plot(x,E);\n",
    "    plt.subplot(2,1,2); plt.plot(x,-F);\n",
    "\n",
    "plt.subplot(2,1,1); plt.ylim(-1.0,1.0); plt.xlim(0.0,4.0); plt.grid(); plt.ylabel(\"Energy\"); plt.axhline(0,c='k',ls='--')\n",
    "plt.subplot(2,1,2); plt.ylim(-4.0,4.0); plt.xlim(0.0,4.0); plt.grid(); plt.ylabel(\"Force\"); plt.axhline(0,c='k',ls='--')\n"
   ]
  },
  {
   "cell_type": "markdown",
   "metadata": {},
   "source": [
    "## Factorized Polynominals\n"
   ]
  },
  {
   "cell_type": "code",
   "execution_count": null,
   "metadata": {
    "collapsed": false
   },
   "outputs": [],
   "source": [
    "a = (1.0-x**2)   # this per atom\n",
    "b = (x-2)**2     # this will be on grid\n",
    "plt.plot(x,a,label='a')\n",
    "plt.plot(x,b,label='b')\n",
    "plt.plot(x,a*b,lw=2,c='k',label='c')\n",
    "vmax=1.00; plt.ylim(-vmax,vmax); plt.xlim(0.0,4.0); plt.grid(); plt.legend()"
   ]
  },
  {
   "cell_type": "markdown",
   "metadata": {},
   "source": [
    "## Approx exponential"
   ]
  },
  {
   "cell_type": "code",
   "execution_count": null,
   "metadata": {
    "collapsed": false
   },
   "outputs": [],
   "source": [
    "alpha = -1.6\n",
    "\n",
    "def getMorse( r, R, eps, alpha=alpha ):\n",
    "    return eps*( np.exp(2*alpha*(r-R)) - 2*np.exp(alpha*(r-R)) )\n",
    "\n",
    "def fastExp( x, n=4 ):\n",
    "    e = 1.0 + x/np.power(2.0,n);\n",
    "    for i in range(n): e*=e\n",
    "    return e\n",
    "\n",
    "def getFastMorse( r, R, eps, alpha=alpha, n=4 ):\n",
    "    expar = fastExp(alpha*(r-R), n=n )\n",
    "    return eps*( expar*expar - 2*expar )\n",
    "    \n",
    "plt.plot( x, getMorse       ( x, 4.0, 1.0 ), ':k', lw=2, label=('exact') )\n",
    "for i in range(5):\n",
    "    plt.plot( x, getFastMorse( x, 4.0, 1.0, n=i ), ls='-', label=('aprox n=%i' %i ) )\n",
    "    \n",
    "vmax=1.00; plt.ylim(-vmax,vmax); plt.xlim(2.0,10.0); plt.grid(); plt.legend()"
   ]
  },
  {
   "cell_type": "markdown",
   "metadata": {},
   "source": [
    "### Approx Gaussian"
   ]
  },
  {
   "cell_type": "code",
   "execution_count": null,
   "metadata": {
    "collapsed": false
   },
   "outputs": [],
   "source": [
    "def Gaussian( r ):\n",
    "    return np.exp(-r*r)\n",
    "\n",
    "def fastGauss( r, n=4 ):\n",
    "    x = r*r\n",
    "    e = 1.0 - x/np.power(2.0,n);\n",
    "    for i in range(n): e*=e\n",
    "    return e\n",
    "\n",
    "plt.plot( x , Gaussian( x), '--k', label=('exact') )\n",
    "for i in range(5):\n",
    "    plt.plot( x, fastGauss( x, n=i ), ls='-', label=('aprox n=%i' %i ) )\n",
    "\n",
    "plt.ylim(-0.5,1.0); plt.xlim(0.0,4.0); plt.grid(); plt.legend()"
   ]
  },
  {
   "cell_type": "markdown",
   "metadata": {},
   "source": [
    "### Exp power "
   ]
  },
  {
   "cell_type": "code",
   "execution_count": null,
   "metadata": {
    "collapsed": false
   },
   "outputs": [],
   "source": [
    "def fastExp( x, n=4 ):\n",
    "    e = 1.0 + x/np.power(2.0,n);\n",
    "    e[e<0] = 0\n",
    "    for i in range(n): e*=e\n",
    "    return e\n",
    "\n",
    "xs = np.linspace(0.0,10.0,300)\n",
    "\n",
    "plt.plot( xs, np.exp(-xs), '--k', label=('exact') )\n",
    "for i in range(5):\n",
    "    plt.plot( xs, fastExp(-xs, n=i ), ls='-', label=('aprox n=%i' %i ) )\n",
    "\n",
    "plt.ylim(-0.5,1.0); plt.xlim(0.0,6.0); plt.grid(); plt.legend()"
   ]
  },
  {
   "cell_type": "markdown",
   "metadata": {},
   "source": [
    "# Radial polynomynal potential"
   ]
  },
  {
   "cell_type": "code",
   "execution_count": null,
   "metadata": {
    "collapsed": false
   },
   "outputs": [],
   "source": [
    "\n",
    "\n",
    "'''\n",
    "V  = (A-r2)*(B-r2)**4\n",
    "fr = ( 4*(A-r2) - (B-r2) )*-2*(B-r2)**3\n",
    "'''\n",
    "\n",
    "r, r2, A, B, C = sy.symbols('r r2 A B C')\n",
    "\n",
    "V = (A-r2)*(B-r2)**2\n",
    "F = sy.diff(V, r2)\n",
    "#F = sy.simplify(sy.expand(F))\n",
    "F = sy.factor(F)\n",
    "print F\n",
    "F = F.expand()\n",
    "print \"coefs : \"\n",
    "#print sy.collect(F,r2)\n",
    "print \" ^0 : \",F.coeff(r2, 0)\n",
    "print \" ^1 : \",F.coeff(r2, 1)\n",
    "print \" ^2 : \",F.coeff(r2, 2)\n",
    "print \" ^3 : \",F.coeff(r2, 3)\n",
    "print \" ^4 : \",F.coeff(r2, 4)\n",
    "\n",
    "print \"solve : \", sy.solve(F,r2)"
   ]
  },
  {
   "cell_type": "code",
   "execution_count": null,
   "metadata": {
    "collapsed": false
   },
   "outputs": [],
   "source": [
    "def UniPolyPot( r, Rmax=4.0, Rmin=2.0, n=4):\n",
    "    '''\n",
    "    potential in form $ V(r) = (A-r^2) * (B-r^2)^n $\n",
    "    '''\n",
    "    r2   = r**2\n",
    "    C    = Rmin**2\n",
    "    B    = Rmax**2\n",
    "    print \"C=\",C,\"n=\",n,\" C*(n+1)=\",C*(n+1),\" B=\",B\n",
    "    A    = (C*(n+1) - B)/n; print \"A =\",A,\" R0 =\", np.sqrt(A)\n",
    "    resc = -1/((A-C)*(B-C)**n);  print \"resc = \", resc\n",
    "    ea   = A-r2\n",
    "    eb   = B-r2\n",
    "    ebn  = eb**(n-1) * resc\n",
    "    E    = ea * eb * ebn\n",
    "    fr   = ( n*ea + eb) * ebn * 2\n",
    "    return E, fr*r\n",
    "\n",
    "def plotUniPolyPot( Rmax=4.0, Rmin=2.0, n=4, clr=None ):\n",
    "    E,F = UniPolyPot(x, Rmax=Rmax, Rmin=Rmin, n=n )\n",
    "    plt.subplot(2,1,1); plt.plot(x,E, c=clr, label=(\"%i\" %n));\n",
    "    plt.subplot(2,1,2); plt.plot(x,F, c=clr, label=(\"%i\" %n));\n",
    "    plt.plot((x[:-1]+x[1:])*0.5,(E[:-1]-E[1:])/dx, ls=\":\",c=clr, label=(\"%i\" %n));\n",
    "    plt.axvline(Rmax,c=clr, ls=\"--\")\n",
    "\n",
    "plotUniPolyPot( Rmax=4.0, Rmin=3.0, n=2, clr='r' )\n",
    "plotUniPolyPot( Rmax=4.4, Rmin=3.0, n=3, clr='g' )\n",
    "plotUniPolyPot( Rmax=4.8, Rmin=3.0, n=4, clr='b' )\n",
    "\n",
    "plt.subplot(2,1,1); plt.ylim(-1.0,1.0); plt.xlim(0.0,6.0); plt.grid(); plt.ylabel(\"Energy\"); plt.axhline(0,c='k',ls='--')\n",
    "plt.subplot(2,1,2); plt.ylim(-4.0,4.0); plt.xlim(0.0,6.0); plt.grid(); plt.ylabel(\"Force\"); plt.axhline(0,c='k',ls='--')"
   ]
  },
  {
   "cell_type": "code",
   "execution_count": null,
   "metadata": {
    "collapsed": false
   },
   "outputs": [],
   "source": [
    "def R4(r,   REmin=2.0, Emin=-0.2, E0=1.0 ):\n",
    "\tREmin2  = REmin**2\n",
    "\tScaling = (E0-Emin)/(REmin2**2)\n",
    "\tRmax    = np.sqrt(REmin2+np.sqrt(-(Emin/Scaling)))\n",
    "\tR0      = np.sqrt(REmin2-np.sqrt(-(Emin/Scaling)))\n",
    "\tmask=(r>Rmax)\t\n",
    "\tr2=r**2\t\n",
    "\tf   = Scaling*( (REmin2-r2)**2    ) + Emin\n",
    "\tdf  = Scaling*( 4*(REmin2-r2)*r   )\n",
    "\tddf = Scaling*( 4*REmin2-12*r2    )\n",
    "\tf[mask]=0; df[mask]=0; ddf[mask]=0;\n",
    "\treturn f,df,ddf, Rmax,R0,REmin\n",
    "\n",
    "def R4_(r,   R0=1.0, Rmax=2.0, Emin=-0.2 ):\n",
    "\tRmax2=Rmax**2; R02=R0**2\n",
    "\tREmin2  = (Rmax2 + R02)*0.5\n",
    "\tScaling = -4*Emin/(Rmax2-R02)**2\n",
    "\tmask=(r>Rmax)\t\n",
    "\tr2=r**2\t\n",
    "\tf   = Scaling*( (REmin2-r2)**2    ) + Emin\n",
    "\tdf  = Scaling*( 4*(REmin2-r2)*r   )\n",
    "\tddf = Scaling*( 4*REmin2-12*r2    )\n",
    "\tf[mask]=0; df[mask]=0; ddf[mask]=0;\n",
    "\treturn f,df,ddf, Rmax,R0,np.sqrt(REmin2)\n",
    "\n",
    "def LR2(r, C=-2.5, K=1.0, A=1.0, s=0.1 ):\n",
    "\tr2=r**2\n",
    "\tf   = K*r2  + A/(s+r2)  +   C\n",
    "\tdf  = -( 2*K*r - 2*A*r/(s+r2)**2 )\n",
    "\tddf = -( 2*K   - 2*A/(s+r2)**2  + 8*A*r2/(s+r2)**3 )\n",
    "\treturn f,df,ddf,0,0,0 \n",
    "\n",
    "\n",
    "rs   = np.linspace(0,4.0,100)\n",
    "#func = R4\n",
    "func = R4_\n",
    "#func = LR2\n",
    "f,df,ddf, Rmax,R0,REmin  = func(rs)\n",
    "dr   = rs[1]-rs[0] \n",
    "df_  = -(f[2:]-f[:-2])/(2*dr)\n",
    "ddf_ = (df_[2:]-df_[:-2])/(2*dr)\n",
    "plt.figure(figsize=(5,15))\n",
    "plt.subplot(3,1,1); plt.plot(rs,f)   ; plt.axhline(0,ls='--',color='k'); plt.axvline(R0,ls='--',color='k');    plt.axvline(REmin,ls='--',color='k'); plt.axvline(Rmax,ls='--',color='k'); #  plt.ylim(-1,1); \n",
    "plt.subplot(3,1,2); plt.plot(rs,df)  ; plt.axhline(0,ls='--',color='k'); plt.axvline(REmin,ls='--',color='k'); plt.axvline(Rmax,ls='--',color='k'); plt.plot(rs[1:-1],df_); #  plt.ylim(-5,5);\n",
    "plt.subplot(3,1,3); plt.plot(rs,ddf) ; plt.axhline(0,ls='--',color='k'); plt.axvline(Rmax,ls='--',color='k');  plt.plot(rs[2:-2],ddf_); #  plt.ylim(-10,10);\n",
    "plt.show()"
   ]
  },
  {
   "cell_type": "markdown",
   "metadata": {},
   "source": [
    "### Even reciprocal polynominal\n",
    "\n"
   ]
  },
  {
   "cell_type": "code",
   "execution_count": null,
   "metadata": {
    "collapsed": false
   },
   "outputs": [],
   "source": [
    "'''\n",
    "$ eps*( A/r^8 - 1/r^6) = eps*(R0^2-r^2)/(r^2)^4 $\n",
    "$ A = R0^2 $\n",
    "'''\n",
    "\n",
    "r, r2, A, B, C = sy.symbols('r r2 A B C')\n",
    "\n",
    "V = (A-r2)/r2**4  # A/r^8\n",
    "F = sy.diff(V, r2)\n",
    "#F = sy.simplify(sy.expand(F))\n",
    "F = sy.factor(F)\n",
    "print F\n",
    "print \"solve : \", sy.solve(F,r2)"
   ]
  },
  {
   "cell_type": "code",
   "execution_count": null,
   "metadata": {
    "collapsed": false
   },
   "outputs": [],
   "source": [
    "def PolyInvR2( r, Rmin=3.0):\n",
    "    '''\n",
    "    '''\n",
    "    R0    = Rmin*np.sqrt(3.0/4.0)  #*(3.0/4.0)\n",
    "    print Rmin, R0\n",
    "    r2    = r**2\n",
    "    A     = R0**2\n",
    "    ir2   = 1.0/r2;\n",
    "    resc  = -1.0/( (1/Rmin**8)*( A-Rmin**2 ) ); print resc\n",
    "    E     = resc*(ir2**4)*( A-r2 )\n",
    "    fr    = resc*(ir2**4)*(4*A*ir2-3)*2\n",
    "    return E, fr*r\n",
    "\n",
    "def LenardLones( r, Rmin ):\n",
    "    r2   = r**2\n",
    "    ir2  = Rmin**2/r2\n",
    "    ir6  = ir2**3 \n",
    "    resc = 1.0\n",
    "    E    = resc*( ir6 - 2 )*ir6\n",
    "    fr   = resc*( ir6 - 1 )*ir6*ir2*(2.0**(1.0/2.5)) # WHY ?\n",
    "    return E, fr*r\n",
    "\n",
    "def plotPolyInvR2( Rmin=3.0, clr=None ):\n",
    "    E,F = PolyInvR2(x, Rmin=Rmin )\n",
    "    E_,F_ = LenardLones( x, Rmin=Rmin )\n",
    "    plt.subplot(2,1,1); plt.plot(x,E, c=clr);  plt.plot(x,E_, c=clr, ls='--');\n",
    "    plt.subplot(2,1,2); plt.plot(x,F, c=clr);  plt.plot(x,F_, c=clr, ls='--');\n",
    "    plt.plot((x[:-1]+x[1:])*0.5,(E_[:-1]-E_[1:])/dx, ls=\":\", lw=2.0, c=clr);\n",
    "    plt.axvline(Rmax,c=clr, ls=\"--\")\n",
    "\n",
    "plotPolyInvR2( Rmin=3.0, clr='r' )\n",
    "#plotPolyInvR2( , clr='g' )\n",
    "#plotPolyInvR2( , clr='b' )\n",
    "\n",
    "plt.subplot(2,1,1); plt.ylim(-1.0,1.0); plt.xlim(0.0,6.0); plt.grid(); plt.ylabel(\"Energy\"); plt.axhline(0,c='k',ls='--')\n",
    "plt.subplot(2,1,2); plt.ylim(-1.0,1.0); plt.xlim(0.0,6.0); plt.grid(); plt.ylabel(\"Force\"); plt.axhline(0,c='k',ls='--')"
   ]
  },
  {
   "cell_type": "markdown",
   "metadata": {
    "collapsed": false
   },
   "source": [
    "# Buckingham potential \n",
    "https://en.wikipedia.org/wiki/Buckingham_potential"
   ]
  },
  {
   "cell_type": "code",
   "execution_count": null,
   "metadata": {
    "collapsed": false
   },
   "outputs": [],
   "source": [
    "def getBuckingham( r, R0=3.4, eps=0.030, alpha=1.8 ):\n",
    "    '''\n",
    "    V   =  eps *(  (6/(a-6)) * exp( a * (1-(R/R0) )  -  (a/(a-6)) *(R0/R)**6   )\n",
    "    V   =  (eps/(a-6)) *(  6*exp( a * (1-(R/R0) )  -  a*(R0/R)**6 )\n",
    "    V   =  (eps/(a-6)) *(  6*exp( -(a/R0)*(R0-R) ) -  a*(R0/R)**6 )\n",
    "    '''\n",
    "    a    = alpha*R0\n",
    "    pref = eps/(a-6) \n",
    "    A = pref * 6\n",
    "    #B = pref * a * (R0**6)\n",
    "    B = pref * a\n",
    "    print R0, eps, alpha, \" | \", a, pref, \" | \", A, B\n",
    "    #V = A*np.exp( -alpha*(r-R0) ) + B/(r**6)\n",
    "    V = A*np.exp( -alpha*(r-R0) ) - B*(R0/r)**6\n",
    "    return V\n",
    "\n",
    "eps = 0.03\n",
    "R0  = 3.4\n",
    "alpha=1.8\n",
    "\n",
    "V = getBuckingham( x, R0=R0, eps=eps, alpha=alpha ); #print V\n",
    "x_,F = numDeriv( x, V )\n",
    "\n",
    "plt.subplot(2,1,1); plt.plot(x,  V )\n",
    "plt.subplot(2,1,2); plt.plot(x_, F )\n",
    "\n",
    "plt.subplot(2,1,1); plt.ylim(-0.1,0.1); plt.xlim(0.0,6.0); plt.grid(); plt.ylabel(\"Energy\"); plt.axhline(0,c='k',ls='--'); \n",
    "plt.axvline( R0,c='k',ls='-'); plt.axhline( -eps,c='k',ls='-')\n",
    "\n",
    "plt.subplot(2,1,2); plt.ylim(-0.1,0.1); plt.xlim(0.0,6.0); plt.grid(); plt.ylabel(\"Force\"); plt.axhline(0,c='k',ls='--')"
   ]
  },
  {
   "cell_type": "code",
   "execution_count": null,
   "metadata": {
    "collapsed": false
   },
   "outputs": [],
   "source": [
    "alpha = -1.6\n",
    "\n",
    "def getMorse( r, R, eps, alpha=alpha ):\n",
    "    return eps*( np.exp(2*alpha*(r-R)) - 2*np.exp(alpha*(r-R)) )\n",
    "\n",
    "def getElec( r, qq, w2=4 ):\n",
    "    return 14.3996448915*qq/(w2+r*r)\n",
    "\n",
    "Emorse = getMorse( x, 3.0, 0.095*0.026 )\n",
    "Eelec  = getElec ( x, -0.4*0.2 )\n",
    "\n",
    "plt.plot( x, Emorse,        '-r', lw=2, label=('Morse') )\n",
    "plt.plot( x, Eelec,         '-b', lw=2, label=('Elec') )\n",
    "plt.plot( x, Emorse+Eelec , '-k', lw=2, label=('Morse+Elec') )\n",
    "\n",
    "vmax=0.5; plt.ylim(-vmax,vmax); plt.xlim(0.0,10.0); plt.grid(); plt.legend()"
   ]
  },
  {
   "cell_type": "code",
   "execution_count": null,
   "metadata": {
    "collapsed": true
   },
   "outputs": [],
   "source": []
  },
  {
   "cell_type": "code",
   "execution_count": null,
   "metadata": {
    "collapsed": true
   },
   "outputs": [],
   "source": []
  }
 ],
 "metadata": {
  "kernelspec": {
   "display_name": "Python 2",
   "language": "python",
   "name": "python2"
  },
  "language_info": {
   "codemirror_mode": {
    "name": "ipython",
    "version": 2
   },
   "file_extension": ".py",
   "mimetype": "text/x-python",
   "name": "python",
   "nbconvert_exporter": "python",
   "pygments_lexer": "ipython2",
   "version": "2.7.12"
  }
 },
 "nbformat": 4,
 "nbformat_minor": 2
}
