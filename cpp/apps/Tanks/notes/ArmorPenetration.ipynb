{
 "cells": [
  {
   "cell_type": "code",
   "execution_count": null,
   "metadata": {
    "collapsed": false
   },
   "outputs": [],
   "source": [
    "%matplotlib inline\n",
    "import numpy as np\n",
    "import matplotlib\n",
    "import matplotlib.pyplot as plt\n",
    "vs  = np.linspace(0.0,1500,100.0);\n",
    "TDs = np.linspace(0.25,4.0,0.25)\n",
    "D0 = 100.0e-3\n",
    "\n",
    "angles = np.linspace(0.0,np.pi*0.5*0.9, 100)\n",
    "cosAs  = np.cos(angles) \n",
    "lds    = np.linspace(1.0,1.0, 100)\n",
    "\n",
    "rad2deg = 180.0/np.pi\n"
   ]
  },
  {
   "cell_type": "code",
   "execution_count": null,
   "metadata": {
    "collapsed": false
   },
   "outputs": [],
   "source": [
    "def area( caliber ):\n",
    "    return np.pi*(caliber*0.5)**2\n",
    "\n",
    "def projectileMass( L, caliber=100e-3, density=7.8e+3 ):\n",
    "    return area(caliber)*L*density\n",
    "\n",
    "def kineticEnergy( v, mass ):\n",
    "    return 0.5*mass*v**2\n",
    "\n",
    "def flatIncidence( v, thickNor, caliber=100e-3, mass=None, density=7.8e+3, strength=2e+9, cShear=0.75, cDisp=1.0, debug=False ):\n",
    "    if mass is None:\n",
    "        mass = projectileMass( caliber*2, caliber=caliber, density=7.8e+3 )\n",
    "        print \"mass=\", mass\n",
    "    thick       =  thickNor*caliber\n",
    "    #print \"thick=\", thick\n",
    "    Ek          = kineticEnergy( v, mass )\n",
    "    S           = area(caliber)\n",
    "    Sshear      = np.pi*caliber*thick*cShear\n",
    "    #print S,Sshear\n",
    "    S           = np.minimum(S,Sshear) \n",
    "    Estatic        = thick*S*strength\n",
    "    #print Ek,Estatic\n",
    "    displaced_mass = thick*S*density\n",
    "    Edynamic       = cDisp * kineticEnergy( v, displaced_mass )\n",
    "    Eout       = np.maximum( Ek - Estatic - Edynamic , 0 )\n",
    "    if debug:\n",
    "        plt.plot(vs,Ek*1e-6,              label='Ek')\n",
    "        plt.plot(vs,Edynamic*1e-6,        label='Edyn')\n",
    "        plt.plot(vs,(Estatic+Ek*0)*1e-6,  label='Estat')\n",
    "        plt.plot(vs,Eout*1e-6,'k-',lw=2,  label='Eout')\n",
    "    return Eout\n",
    "\n",
    "projectile_mass = projectileMass( 2*D0, caliber=D0, density=7.8e+3 )\n",
    "print \"projectile mass %g [kg]\" %projectile_mass \n",
    "\n",
    "Eout = flatIncidence( vs, 1.0, caliber=D0, mass = projectile_mass, debug=True )\n",
    "#plt.plot(vs,Eout*1e-6)\n",
    "\n",
    "#flatIncidence( vs, projectile_mass, D0, caliber=D0, density=7.8e+3, strength=2e+9, cShear=0.75, cDisp=1.0 )\n",
    "\n",
    "plt.xlabel(\"v [m/s]\"); plt.ylabel( \"E [MJ]\" ); plt.legend(loc=2); plt.grid();\n"
   ]
  },
  {
   "cell_type": "code",
   "execution_count": null,
   "metadata": {
    "collapsed": false
   },
   "outputs": [],
   "source": [
    "def obiqueIncidence_1( v, thickNor, cosA ):\n",
    "    Eout = flatIncidence( v, thickNor/cosA  )\n",
    "    return Eout\n",
    "\n",
    "#print cosAs\n",
    "Eout = obiqueIncidence_1( 800.0, 1.0, cosAs )\n",
    "plt.plot(angles*rad2deg, Eout*1e-6)\n",
    "\n",
    "plt.xlabel(\"angle [deg]\"); plt.ylabel( \"Eout [MJ]\" ); plt.legend(loc=4); plt.grid();"
   ]
  },
  {
   "cell_type": "code",
   "execution_count": null,
   "metadata": {
    "collapsed": false
   },
   "outputs": [],
   "source": [
    "def ricochetAngle_1( v, ld, Yp=2e+9, rho_p=7.8e+3, rho_t=7.8e+3 ):\n",
    "    '''\n",
    "    A simple estimate of the minimum target obliquity required for the ricochet of a high speed long rod projectile\n",
    "    1979 J. Phys. D: Appl. Phys. 12 1825; http://iopscience.iop.org/0022-3727/12/11/011\n",
    "    \n",
    "    modified hydrodynamic equation:\n",
    "    rho_p*(Vin-Vout)**2 + Yp = rho_t*Vout**2 + Yt\n",
    "    Vcrit = sqrt( 2*(Rt-Yp)/rho_p )\n",
    "    '''\n",
    "    cDens  =  1.0 + np.sqrt(rho_p/rho_t)\n",
    "    #cShape = (l**2+d**2)/(l*d)\n",
    "    cShape = (ld**2 + 1)/(ld*1.0)\n",
    "    print cDens, cShape\n",
    "    rhs    = (2.0/3.0)*((rho_p * v**2)/Yp)*cShape*cDens\n",
    "    tanA   = rhs**(1.0/3.0) \n",
    "    return np.arctan( tanA )\n",
    "\n",
    "for ld in [1.0,2.0,3.0,4.0,5.0]:\n",
    "    aCrit = ricochetAngle_1( vs, ld )\n",
    "    plt.plot(vs,aCrit*rad2deg, label=(\"l/d=%1.1f\" %ld) )\n",
    "\n",
    "plt.xlabel(\"v [m/s]\"); plt.ylabel( \"aCrit [deg]\" ); plt.legend(loc=4); plt.grid();\n"
   ]
  },
  {
   "cell_type": "code",
   "execution_count": null,
   "metadata": {
    "collapsed": false
   },
   "outputs": [],
   "source": [
    "def surfaceDeflection( v, angle, caliber=100e-3, mass=None, strength=2.0e+9 ):\n",
    "    '''\n",
    "    before projectile dent into the target it is accelerated along the surface\n",
    "    '''\n",
    "    tgA = np.tan(angle)\n",
    "    #print tgA\n",
    "    if mass is None:\n",
    "        mass = projectileMass( caliber*2, caliber=caliber, density=7.8e+3 )\n",
    "        print \"mass=\", mass\n",
    "    tdent = (caliber*tgA)/v\n",
    "    S   = area(caliber)\n",
    "    aT  = ( strength * S * tgA ) / mass\n",
    "    vT  = tdent * aT\n",
    "    #print vT\n",
    "    #vII = np.sqrt( vT )\n",
    "    angle_ = angle  + np.arcsin( vT/v ) \n",
    "    return angle_\n",
    "\n",
    "for v in [500,750,1000,1250]:\n",
    "    angles_ = surfaceDeflection( v, angles )\n",
    "    plt.plot( angles*rad2deg, angles_*rad2deg, label=(\"%1.1f [km/s]\" %(v*1e-3)) )\n",
    "\n",
    "plt.plot(angles*rad2deg,angles*rad2deg,ls='--',c=\"#808080\")\n",
    "\n",
    "plt.xlabel(\"alpha [deg]\"); plt.ylabel( \"beta [deg]\" ); plt.legend(loc=4); plt.grid(); #plt.axis('equal')"
   ]
  },
  {
   "cell_type": "code",
   "execution_count": null,
   "metadata": {
    "collapsed": true
   },
   "outputs": [],
   "source": []
  }
 ],
 "metadata": {
  "kernelspec": {
   "display_name": "Python 2",
   "language": "python",
   "name": "python2"
  },
  "language_info": {
   "codemirror_mode": {
    "name": "ipython",
    "version": 2
   },
   "file_extension": ".py",
   "mimetype": "text/x-python",
   "name": "python",
   "nbconvert_exporter": "python",
   "pygments_lexer": "ipython2",
   "version": "2.7.12"
  }
 },
 "nbformat": 4,
 "nbformat_minor": 2
}
